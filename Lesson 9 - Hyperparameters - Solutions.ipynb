{
 "cells": [
  {
   "cell_type": "code",
   "execution_count": 70,
   "metadata": {
    "collapsed": false
   },
   "outputs": [],
   "source": [
    "import pandas as pd\n",
    "import matplotlib.pyplot as plt\n",
    "import numpy as np\n",
    "\n",
    "from keras.models import Sequential\n",
    "from keras.layers import Dense, Activation, Embedding, Flatten, LeakyReLU, Merge, BatchNormalization, Dropout\n",
    "from keras.activations import relu, sigmoid\n",
    "\n",
    "from sklearn.preprocessing import StandardScaler\n",
    "\n",
    "%matplotlib inline"
   ]
  },
  {
   "cell_type": "markdown",
   "metadata": {},
   "source": [
    "Description of the data:\n",
    "\n",
    "- instant: record index\n",
    "- dteday : date\n",
    "- season : season (1:springer, 2:summer, 3:fall, 4:winter)\n",
    "- yr : year (0: 2011, 1:2012)\n",
    "- mnth : month ( 1 to 12)\n",
    "- hr : hour (0 to 23)\n",
    "- holiday : weather day is holiday or not (extracted from [Web Link])\n",
    "- weekday : day of the week\n",
    "- workingday : if day is neither weekend nor holiday is 1, otherwise is 0.\n",
    "+ weathersit : \n",
    "  - 1: Clear, Few clouds, Partly cloudy, Partly cloudy\n",
    "  - 2: Mist + Cloudy, Mist + Broken clouds, Mist + Few clouds, Mist\n",
    "  - 3: Light Snow, Light Rain + Thunderstorm + Scattered clouds, Light Rain + Scattered clouds\n",
    "  - 4: Heavy Rain + Ice Pallets + Thunderstorm + Mist, Snow + Fog\n",
    "- temp : Normalized temperature in Celsius. The values are derived via (t-t_min)/(t_max-t_min), t_min=-8, t_max=+39 (only in hourly scale)\n",
    "- atemp: Normalized feeling temperature in Celsius. The values are derived via (t-t_min)/(t_max-t_min), t_min=-16, t_max=+50 (only in hourly scale)\n",
    "- hum: Normalized humidity. The values are divided to 100 (max)\n",
    "- windspeed: Normalized wind speed. The values are divided to 67 (max)\n",
    "- casual: count of casual users\n",
    "- registered: count of registered users\n",
    "- cnt: count of total rental bikes including both casual and registered"
   ]
  },
  {
   "cell_type": "code",
   "execution_count": 2,
   "metadata": {
    "collapsed": false
   },
   "outputs": [
    {
     "name": "stderr",
     "output_type": "stream",
     "text": [
      "/Users/sachin/anaconda/lib/python3.5/site-packages/pandas/core/ops.py:533: PerformanceWarning: Adding/subtracting array of DateOffsets to Series not vectorized\n",
      "  \"Series not vectorized\", PerformanceWarning)\n"
     ]
    },
    {
     "data": {
      "text/html": [
       "<div>\n",
       "<table border=\"1\" class=\"dataframe\">\n",
       "  <thead>\n",
       "    <tr style=\"text-align: right;\">\n",
       "      <th></th>\n",
       "      <th>season</th>\n",
       "      <th>mnth</th>\n",
       "      <th>hr</th>\n",
       "      <th>holiday</th>\n",
       "      <th>weekday</th>\n",
       "      <th>workingday</th>\n",
       "      <th>weathersit</th>\n",
       "      <th>temp</th>\n",
       "      <th>hum</th>\n",
       "      <th>windspeed</th>\n",
       "      <th>cnt</th>\n",
       "      <th>time</th>\n",
       "      <th>t</th>\n",
       "    </tr>\n",
       "  </thead>\n",
       "  <tbody>\n",
       "    <tr>\n",
       "      <th>0</th>\n",
       "      <td>1</td>\n",
       "      <td>1</td>\n",
       "      <td>0</td>\n",
       "      <td>0</td>\n",
       "      <td>6</td>\n",
       "      <td>0</td>\n",
       "      <td>1</td>\n",
       "      <td>0.24</td>\n",
       "      <td>0.81</td>\n",
       "      <td>0.0</td>\n",
       "      <td>16</td>\n",
       "      <td>2011-01-01 00:00:00</td>\n",
       "      <td>1.293840e+18</td>\n",
       "    </tr>\n",
       "    <tr>\n",
       "      <th>1</th>\n",
       "      <td>1</td>\n",
       "      <td>1</td>\n",
       "      <td>1</td>\n",
       "      <td>0</td>\n",
       "      <td>6</td>\n",
       "      <td>0</td>\n",
       "      <td>1</td>\n",
       "      <td>0.22</td>\n",
       "      <td>0.80</td>\n",
       "      <td>0.0</td>\n",
       "      <td>40</td>\n",
       "      <td>2011-01-01 01:00:00</td>\n",
       "      <td>1.293844e+18</td>\n",
       "    </tr>\n",
       "    <tr>\n",
       "      <th>2</th>\n",
       "      <td>1</td>\n",
       "      <td>1</td>\n",
       "      <td>2</td>\n",
       "      <td>0</td>\n",
       "      <td>6</td>\n",
       "      <td>0</td>\n",
       "      <td>1</td>\n",
       "      <td>0.22</td>\n",
       "      <td>0.80</td>\n",
       "      <td>0.0</td>\n",
       "      <td>32</td>\n",
       "      <td>2011-01-01 02:00:00</td>\n",
       "      <td>1.293847e+18</td>\n",
       "    </tr>\n",
       "    <tr>\n",
       "      <th>3</th>\n",
       "      <td>1</td>\n",
       "      <td>1</td>\n",
       "      <td>3</td>\n",
       "      <td>0</td>\n",
       "      <td>6</td>\n",
       "      <td>0</td>\n",
       "      <td>1</td>\n",
       "      <td>0.24</td>\n",
       "      <td>0.75</td>\n",
       "      <td>0.0</td>\n",
       "      <td>13</td>\n",
       "      <td>2011-01-01 03:00:00</td>\n",
       "      <td>1.293851e+18</td>\n",
       "    </tr>\n",
       "    <tr>\n",
       "      <th>4</th>\n",
       "      <td>1</td>\n",
       "      <td>1</td>\n",
       "      <td>4</td>\n",
       "      <td>0</td>\n",
       "      <td>6</td>\n",
       "      <td>0</td>\n",
       "      <td>1</td>\n",
       "      <td>0.24</td>\n",
       "      <td>0.75</td>\n",
       "      <td>0.0</td>\n",
       "      <td>1</td>\n",
       "      <td>2011-01-01 04:00:00</td>\n",
       "      <td>1.293854e+18</td>\n",
       "    </tr>\n",
       "  </tbody>\n",
       "</table>\n",
       "</div>"
      ],
      "text/plain": [
       "   season  mnth  hr  holiday  weekday  workingday  weathersit  temp   hum  \\\n",
       "0       1     1   0        0        6           0           1  0.24  0.81   \n",
       "1       1     1   1        0        6           0           1  0.22  0.80   \n",
       "2       1     1   2        0        6           0           1  0.22  0.80   \n",
       "3       1     1   3        0        6           0           1  0.24  0.75   \n",
       "4       1     1   4        0        6           0           1  0.24  0.75   \n",
       "\n",
       "   windspeed  cnt                time             t  \n",
       "0        0.0   16 2011-01-01 00:00:00  1.293840e+18  \n",
       "1        0.0   40 2011-01-01 01:00:00  1.293844e+18  \n",
       "2        0.0   32 2011-01-01 02:00:00  1.293847e+18  \n",
       "3        0.0   13 2011-01-01 03:00:00  1.293851e+18  \n",
       "4        0.0    1 2011-01-01 04:00:00  1.293854e+18  "
      ]
     },
     "execution_count": 2,
     "metadata": {},
     "output_type": "execute_result"
    }
   ],
   "source": [
    "rides = pd.read_csv('hour.csv')\n",
    "rides['time'] = pd.to_datetime(rides['dteday'])+pd.Series([pd.DateOffset(hours = a ) for a in rides.hr.tolist()])\n",
    "rides.drop(['instant','yr','dteday','casual','registered', 'atemp'],1,inplace=True)\n",
    "rides['t'] = rides.time.values.astype(float)\n",
    "rides.head()"
   ]
  },
  {
   "cell_type": "markdown",
   "metadata": {},
   "source": [
    "Get **one hot encoded** values of the categorical variables:"
   ]
  },
  {
   "cell_type": "code",
   "execution_count": 3,
   "metadata": {
    "collapsed": false
   },
   "outputs": [
    {
     "data": {
      "text/html": [
       "<div>\n",
       "<table border=\"1\" class=\"dataframe\">\n",
       "  <thead>\n",
       "    <tr style=\"text-align: right;\">\n",
       "      <th></th>\n",
       "      <th>temp</th>\n",
       "      <th>hum</th>\n",
       "      <th>windspeed</th>\n",
       "      <th>cnt</th>\n",
       "      <th>time</th>\n",
       "      <th>t</th>\n",
       "      <th>season_1</th>\n",
       "      <th>season_2</th>\n",
       "      <th>season_3</th>\n",
       "      <th>season_4</th>\n",
       "      <th>...</th>\n",
       "      <th>weekday_3</th>\n",
       "      <th>weekday_4</th>\n",
       "      <th>weekday_5</th>\n",
       "      <th>weekday_6</th>\n",
       "      <th>workingday_0</th>\n",
       "      <th>workingday_1</th>\n",
       "      <th>weathersit_1</th>\n",
       "      <th>weathersit_2</th>\n",
       "      <th>weathersit_3</th>\n",
       "      <th>weathersit_4</th>\n",
       "    </tr>\n",
       "  </thead>\n",
       "  <tbody>\n",
       "    <tr>\n",
       "      <th>0</th>\n",
       "      <td>0.24</td>\n",
       "      <td>0.81</td>\n",
       "      <td>0.0</td>\n",
       "      <td>16</td>\n",
       "      <td>2011-01-01 00:00:00</td>\n",
       "      <td>1.293840e+18</td>\n",
       "      <td>1</td>\n",
       "      <td>0</td>\n",
       "      <td>0</td>\n",
       "      <td>0</td>\n",
       "      <td>...</td>\n",
       "      <td>0</td>\n",
       "      <td>0</td>\n",
       "      <td>0</td>\n",
       "      <td>1</td>\n",
       "      <td>1</td>\n",
       "      <td>0</td>\n",
       "      <td>1</td>\n",
       "      <td>0</td>\n",
       "      <td>0</td>\n",
       "      <td>0</td>\n",
       "    </tr>\n",
       "    <tr>\n",
       "      <th>1</th>\n",
       "      <td>0.22</td>\n",
       "      <td>0.80</td>\n",
       "      <td>0.0</td>\n",
       "      <td>40</td>\n",
       "      <td>2011-01-01 01:00:00</td>\n",
       "      <td>1.293844e+18</td>\n",
       "      <td>1</td>\n",
       "      <td>0</td>\n",
       "      <td>0</td>\n",
       "      <td>0</td>\n",
       "      <td>...</td>\n",
       "      <td>0</td>\n",
       "      <td>0</td>\n",
       "      <td>0</td>\n",
       "      <td>1</td>\n",
       "      <td>1</td>\n",
       "      <td>0</td>\n",
       "      <td>1</td>\n",
       "      <td>0</td>\n",
       "      <td>0</td>\n",
       "      <td>0</td>\n",
       "    </tr>\n",
       "    <tr>\n",
       "      <th>2</th>\n",
       "      <td>0.22</td>\n",
       "      <td>0.80</td>\n",
       "      <td>0.0</td>\n",
       "      <td>32</td>\n",
       "      <td>2011-01-01 02:00:00</td>\n",
       "      <td>1.293847e+18</td>\n",
       "      <td>1</td>\n",
       "      <td>0</td>\n",
       "      <td>0</td>\n",
       "      <td>0</td>\n",
       "      <td>...</td>\n",
       "      <td>0</td>\n",
       "      <td>0</td>\n",
       "      <td>0</td>\n",
       "      <td>1</td>\n",
       "      <td>1</td>\n",
       "      <td>0</td>\n",
       "      <td>1</td>\n",
       "      <td>0</td>\n",
       "      <td>0</td>\n",
       "      <td>0</td>\n",
       "    </tr>\n",
       "    <tr>\n",
       "      <th>3</th>\n",
       "      <td>0.24</td>\n",
       "      <td>0.75</td>\n",
       "      <td>0.0</td>\n",
       "      <td>13</td>\n",
       "      <td>2011-01-01 03:00:00</td>\n",
       "      <td>1.293851e+18</td>\n",
       "      <td>1</td>\n",
       "      <td>0</td>\n",
       "      <td>0</td>\n",
       "      <td>0</td>\n",
       "      <td>...</td>\n",
       "      <td>0</td>\n",
       "      <td>0</td>\n",
       "      <td>0</td>\n",
       "      <td>1</td>\n",
       "      <td>1</td>\n",
       "      <td>0</td>\n",
       "      <td>1</td>\n",
       "      <td>0</td>\n",
       "      <td>0</td>\n",
       "      <td>0</td>\n",
       "    </tr>\n",
       "    <tr>\n",
       "      <th>4</th>\n",
       "      <td>0.24</td>\n",
       "      <td>0.75</td>\n",
       "      <td>0.0</td>\n",
       "      <td>1</td>\n",
       "      <td>2011-01-01 04:00:00</td>\n",
       "      <td>1.293854e+18</td>\n",
       "      <td>1</td>\n",
       "      <td>0</td>\n",
       "      <td>0</td>\n",
       "      <td>0</td>\n",
       "      <td>...</td>\n",
       "      <td>0</td>\n",
       "      <td>0</td>\n",
       "      <td>0</td>\n",
       "      <td>1</td>\n",
       "      <td>1</td>\n",
       "      <td>0</td>\n",
       "      <td>1</td>\n",
       "      <td>0</td>\n",
       "      <td>0</td>\n",
       "      <td>0</td>\n",
       "    </tr>\n",
       "  </tbody>\n",
       "</table>\n",
       "<p>5 rows × 61 columns</p>\n",
       "</div>"
      ],
      "text/plain": [
       "   temp   hum  windspeed  cnt                time             t  season_1  \\\n",
       "0  0.24  0.81        0.0   16 2011-01-01 00:00:00  1.293840e+18         1   \n",
       "1  0.22  0.80        0.0   40 2011-01-01 01:00:00  1.293844e+18         1   \n",
       "2  0.22  0.80        0.0   32 2011-01-01 02:00:00  1.293847e+18         1   \n",
       "3  0.24  0.75        0.0   13 2011-01-01 03:00:00  1.293851e+18         1   \n",
       "4  0.24  0.75        0.0    1 2011-01-01 04:00:00  1.293854e+18         1   \n",
       "\n",
       "   season_2  season_3  season_4      ...       weekday_3  weekday_4  \\\n",
       "0         0         0         0      ...               0          0   \n",
       "1         0         0         0      ...               0          0   \n",
       "2         0         0         0      ...               0          0   \n",
       "3         0         0         0      ...               0          0   \n",
       "4         0         0         0      ...               0          0   \n",
       "\n",
       "   weekday_5  weekday_6  workingday_0  workingday_1  weathersit_1  \\\n",
       "0          0          1             1             0             1   \n",
       "1          0          1             1             0             1   \n",
       "2          0          1             1             0             1   \n",
       "3          0          1             1             0             1   \n",
       "4          0          1             1             0             1   \n",
       "\n",
       "   weathersit_2  weathersit_3  weathersit_4  \n",
       "0             0             0             0  \n",
       "1             0             0             0  \n",
       "2             0             0             0  \n",
       "3             0             0             0  \n",
       "4             0             0             0  \n",
       "\n",
       "[5 rows x 61 columns]"
      ]
     },
     "execution_count": 3,
     "metadata": {},
     "output_type": "execute_result"
    }
   ],
   "source": [
    "cat_features = ['season', 'hr', 'mnth', 'holiday', 'weekday', 'workingday', 'weathersit']\n",
    "rides = pd.get_dummies(rides, columns=cat_features)\n",
    "rides.head()"
   ]
  },
  {
   "cell_type": "code",
   "execution_count": 4,
   "metadata": {
    "collapsed": false
   },
   "outputs": [
    {
     "data": {
      "image/png": "[encoded data removed]",
      "text/plain": [
       "<matplotlib.figure.Figure at 0x1053e4ba8>"
      ]
     },
     "metadata": {},
     "output_type": "display_data"
    }
   ],
   "source": [
    "plt.plot(rides.time[:240],rides.cnt[:240])\n",
    "plt.show()"
   ]
  },
  {
   "cell_type": "code",
   "execution_count": 5,
   "metadata": {
    "collapsed": false
   },
   "outputs": [
    {
     "name": "stderr",
     "output_type": "stream",
     "text": [
      "/Users/sachin/anaconda/lib/python3.5/site-packages/sklearn/utils/validation.py:429: DataConversionWarning: Data with input dtype int64 was converted to float64 by StandardScaler.\n",
      "  warnings.warn(msg, _DataConversionWarning)\n"
     ]
    },
    {
     "data": {
      "text/html": [
       "<div>\n",
       "<table border=\"1\" class=\"dataframe\">\n",
       "  <thead>\n",
       "    <tr style=\"text-align: right;\">\n",
       "      <th></th>\n",
       "      <th>temp</th>\n",
       "      <th>hum</th>\n",
       "      <th>windspeed</th>\n",
       "      <th>cnt</th>\n",
       "      <th>time</th>\n",
       "      <th>t</th>\n",
       "      <th>season_1</th>\n",
       "      <th>season_2</th>\n",
       "      <th>season_3</th>\n",
       "      <th>season_4</th>\n",
       "      <th>...</th>\n",
       "      <th>weekday_3</th>\n",
       "      <th>weekday_4</th>\n",
       "      <th>weekday_5</th>\n",
       "      <th>weekday_6</th>\n",
       "      <th>workingday_0</th>\n",
       "      <th>workingday_1</th>\n",
       "      <th>weathersit_1</th>\n",
       "      <th>weathersit_2</th>\n",
       "      <th>weathersit_3</th>\n",
       "      <th>weathersit_4</th>\n",
       "    </tr>\n",
       "  </thead>\n",
       "  <tbody>\n",
       "    <tr>\n",
       "      <th>0</th>\n",
       "      <td>-1.334648</td>\n",
       "      <td>0.947372</td>\n",
       "      <td>-1.553889</td>\n",
       "      <td>-0.956339</td>\n",
       "      <td>2011-01-01 00:00:00</td>\n",
       "      <td>-1.745435</td>\n",
       "      <td>1</td>\n",
       "      <td>0</td>\n",
       "      <td>0</td>\n",
       "      <td>0</td>\n",
       "      <td>...</td>\n",
       "      <td>0</td>\n",
       "      <td>0</td>\n",
       "      <td>0</td>\n",
       "      <td>1</td>\n",
       "      <td>1</td>\n",
       "      <td>0</td>\n",
       "      <td>1</td>\n",
       "      <td>0</td>\n",
       "      <td>0</td>\n",
       "      <td>0</td>\n",
       "    </tr>\n",
       "    <tr>\n",
       "      <th>1</th>\n",
       "      <td>-1.438516</td>\n",
       "      <td>0.895539</td>\n",
       "      <td>-1.553889</td>\n",
       "      <td>-0.824022</td>\n",
       "      <td>2011-01-01 01:00:00</td>\n",
       "      <td>-1.745236</td>\n",
       "      <td>1</td>\n",
       "      <td>0</td>\n",
       "      <td>0</td>\n",
       "      <td>0</td>\n",
       "      <td>...</td>\n",
       "      <td>0</td>\n",
       "      <td>0</td>\n",
       "      <td>0</td>\n",
       "      <td>1</td>\n",
       "      <td>1</td>\n",
       "      <td>0</td>\n",
       "      <td>1</td>\n",
       "      <td>0</td>\n",
       "      <td>0</td>\n",
       "      <td>0</td>\n",
       "    </tr>\n",
       "    <tr>\n",
       "      <th>2</th>\n",
       "      <td>-1.438516</td>\n",
       "      <td>0.895539</td>\n",
       "      <td>-1.553889</td>\n",
       "      <td>-0.868128</td>\n",
       "      <td>2011-01-01 02:00:00</td>\n",
       "      <td>-1.745038</td>\n",
       "      <td>1</td>\n",
       "      <td>0</td>\n",
       "      <td>0</td>\n",
       "      <td>0</td>\n",
       "      <td>...</td>\n",
       "      <td>0</td>\n",
       "      <td>0</td>\n",
       "      <td>0</td>\n",
       "      <td>1</td>\n",
       "      <td>1</td>\n",
       "      <td>0</td>\n",
       "      <td>1</td>\n",
       "      <td>0</td>\n",
       "      <td>0</td>\n",
       "      <td>0</td>\n",
       "    </tr>\n",
       "    <tr>\n",
       "      <th>3</th>\n",
       "      <td>-1.334648</td>\n",
       "      <td>0.636370</td>\n",
       "      <td>-1.553889</td>\n",
       "      <td>-0.972879</td>\n",
       "      <td>2011-01-01 03:00:00</td>\n",
       "      <td>-1.744840</td>\n",
       "      <td>1</td>\n",
       "      <td>0</td>\n",
       "      <td>0</td>\n",
       "      <td>0</td>\n",
       "      <td>...</td>\n",
       "      <td>0</td>\n",
       "      <td>0</td>\n",
       "      <td>0</td>\n",
       "      <td>1</td>\n",
       "      <td>1</td>\n",
       "      <td>0</td>\n",
       "      <td>1</td>\n",
       "      <td>0</td>\n",
       "      <td>0</td>\n",
       "      <td>0</td>\n",
       "    </tr>\n",
       "    <tr>\n",
       "      <th>4</th>\n",
       "      <td>-1.334648</td>\n",
       "      <td>0.636370</td>\n",
       "      <td>-1.553889</td>\n",
       "      <td>-1.039037</td>\n",
       "      <td>2011-01-01 04:00:00</td>\n",
       "      <td>-1.744641</td>\n",
       "      <td>1</td>\n",
       "      <td>0</td>\n",
       "      <td>0</td>\n",
       "      <td>0</td>\n",
       "      <td>...</td>\n",
       "      <td>0</td>\n",
       "      <td>0</td>\n",
       "      <td>0</td>\n",
       "      <td>1</td>\n",
       "      <td>1</td>\n",
       "      <td>0</td>\n",
       "      <td>1</td>\n",
       "      <td>0</td>\n",
       "      <td>0</td>\n",
       "      <td>0</td>\n",
       "    </tr>\n",
       "  </tbody>\n",
       "</table>\n",
       "<p>5 rows × 61 columns</p>\n",
       "</div>"
      ],
      "text/plain": [
       "       temp       hum  windspeed       cnt                time         t  \\\n",
       "0 -1.334648  0.947372  -1.553889 -0.956339 2011-01-01 00:00:00 -1.745435   \n",
       "1 -1.438516  0.895539  -1.553889 -0.824022 2011-01-01 01:00:00 -1.745236   \n",
       "2 -1.438516  0.895539  -1.553889 -0.868128 2011-01-01 02:00:00 -1.745038   \n",
       "3 -1.334648  0.636370  -1.553889 -0.972879 2011-01-01 03:00:00 -1.744840   \n",
       "4 -1.334648  0.636370  -1.553889 -1.039037 2011-01-01 04:00:00 -1.744641   \n",
       "\n",
       "   season_1  season_2  season_3  season_4      ...       weekday_3  weekday_4  \\\n",
       "0         1         0         0         0      ...               0          0   \n",
       "1         1         0         0         0      ...               0          0   \n",
       "2         1         0         0         0      ...               0          0   \n",
       "3         1         0         0         0      ...               0          0   \n",
       "4         1         0         0         0      ...               0          0   \n",
       "\n",
       "   weekday_5  weekday_6  workingday_0  workingday_1  weathersit_1  \\\n",
       "0          0          1             1             0             1   \n",
       "1          0          1             1             0             1   \n",
       "2          0          1             1             0             1   \n",
       "3          0          1             1             0             1   \n",
       "4          0          1             1             0             1   \n",
       "\n",
       "   weathersit_2  weathersit_3  weathersit_4  \n",
       "0             0             0             0  \n",
       "1             0             0             0  \n",
       "2             0             0             0  \n",
       "3             0             0             0  \n",
       "4             0             0             0  \n",
       "\n",
       "[5 rows x 61 columns]"
      ]
     },
     "execution_count": 5,
     "metadata": {},
     "output_type": "execute_result"
    }
   ],
   "source": [
    "quant_features = ['temp', 'hum', 'windspeed','t']\n",
    "x_scaler = StandardScaler()\n",
    "rides[quant_features] = x_scaler.fit_transform(rides[quant_features].values)\n",
    "\n",
    "y_scaler = StandardScaler()\n",
    "rides['cnt'] = y_scaler.fit_transform(rides['cnt'].values[:,None])\n",
    "\n",
    "rides.head()"
   ]
  },
  {
   "cell_type": "markdown",
   "metadata": {},
   "source": [
    "## Initial model (1 hidden layer with Relu activations)"
   ]
  },
  {
   "cell_type": "markdown",
   "metadata": {},
   "source": [
    "Split data into testing and training"
   ]
  },
  {
   "cell_type": "code",
   "execution_count": 6,
   "metadata": {
    "collapsed": true
   },
   "outputs": [],
   "source": [
    "train_data = rides[:-21*24]\n",
    "test_data = rides[-21*24:]\n",
    "\n",
    "train_x = train_data.drop(['cnt','time'],axis=1).values\n",
    "test_x = test_data.drop(['cnt','time'],axis=1).values"
   ]
  },
  {
   "cell_type": "code",
   "execution_count": 7,
   "metadata": {
    "collapsed": false
   },
   "outputs": [
    {
     "data": {
      "text/plain": [
       "(16875, 59)"
      ]
     },
     "execution_count": 7,
     "metadata": {},
     "output_type": "execute_result"
    }
   ],
   "source": [
    "train_x.shape"
   ]
  },
  {
   "cell_type": "code",
   "execution_count": 56,
   "metadata": {
    "collapsed": false
   },
   "outputs": [],
   "source": [
    "model = Sequential()\n",
    "model.add(Dense(train_x.shape[1]//2,input_dim=train_x.shape[1]))\n",
    "model.add(Activation('relu'))\n",
    "model.add(Dense(1))\n",
    "model.compile(optimizer='adadelta', loss='mse')"
   ]
  },
  {
   "cell_type": "code",
   "execution_count": 57,
   "metadata": {
    "collapsed": false
   },
   "outputs": [
    {
     "name": "stdout",
     "output_type": "stream",
     "text": [
      "Epoch 1/11\n",
      "16875/16875 [==============================] - 0s - loss: 0.9255     \n",
      "Epoch 2/11\n",
      "16875/16875 [==============================] - 0s - loss: 0.6587     \n",
      "Epoch 3/11\n",
      "16875/16875 [==============================] - 0s - loss: 0.5217     \n",
      "Epoch 4/11\n",
      "16875/16875 [==============================] - 0s - loss: 0.4312     \n",
      "Epoch 5/11\n",
      "16875/16875 [==============================] - 0s - loss: 0.3646     \n",
      "Epoch 6/11\n",
      "16875/16875 [==============================] - 0s - loss: 0.3165     \n",
      "Epoch 7/11\n",
      "16875/16875 [==============================] - 0s - loss: 0.2827     \n",
      "Epoch 8/11\n",
      "16875/16875 [==============================] - 0s - loss: 0.2580     \n",
      "Epoch 9/11\n",
      "16875/16875 [==============================] - 0s - loss: 0.2385     \n",
      "Epoch 10/11\n",
      "16875/16875 [==============================] - 0s - loss: 0.2221     \n",
      "Epoch 11/11\n",
      "16875/16875 [==============================] - 0s - loss: 0.2072     \n"
     ]
    },
    {
     "data": {
      "text/plain": [
       "<keras.callbacks.History at 0x11ef55a20>"
      ]
     },
     "execution_count": 57,
     "metadata": {},
     "output_type": "execute_result"
    }
   ],
   "source": [
    "# Train the model\n",
    "model.fit(train_x, train_data['cnt'], batch_size=256, epochs=11)"
   ]
  },
  {
   "cell_type": "code",
   "execution_count": 58,
   "metadata": {
    "collapsed": false
   },
   "outputs": [
    {
     "name": "stdout",
     "output_type": "stream",
     "text": [
      "_________________________________________________________________\n",
      "Layer (type)                 Output Shape              Param #   \n",
      "=================================================================\n",
      "dense_32 (Dense)             (None, 29)                1740      \n",
      "_________________________________________________________________\n",
      "activation_17 (Activation)   (None, 29)                0         \n",
      "_________________________________________________________________\n",
      "dense_33 (Dense)             (None, 1)                 30        \n",
      "=================================================================\n",
      "Total params: 1,770.0\n",
      "Trainable params: 1,770.0\n",
      "Non-trainable params: 0.0\n",
      "_________________________________________________________________\n"
     ]
    }
   ],
   "source": [
    "model.summary()"
   ]
  },
  {
   "cell_type": "code",
   "execution_count": 11,
   "metadata": {
    "collapsed": false
   },
   "outputs": [
    {
     "data": {
      "image/png": "[encoded data removed]",
      "text/plain": [
       "<matplotlib.figure.Figure at 0x1187aef60>"
      ]
     },
     "metadata": {},
     "output_type": "display_data"
    }
   ],
   "source": [
    "pred_y = model.predict(test_x, batch_size=256)\n",
    "plt.figure(figsize=(12,5))\n",
    "plt.plot(test_data.time, y_scaler.inverse_transform(test_data.cnt), label='Actual')\n",
    "plt.plot(test_data.time, y_scaler.inverse_transform(pred_y), label='Prediction')\n",
    "plt.legend()\n",
    "plt.show()"
   ]
  },
  {
   "cell_type": "code",
   "execution_count": 51,
   "metadata": {
    "collapsed": false
   },
   "outputs": [
    {
     "name": "stdout",
     "output_type": "stream",
     "text": [
      "\r",
      "256/504 [==============>...............] - ETA: 0s"
     ]
    },
    {
     "data": {
      "text/plain": [
       "0.21989968513685559"
      ]
     },
     "execution_count": 51,
     "metadata": {},
     "output_type": "execute_result"
    }
   ],
   "source": [
    "model.evaluate(test_x, test_data['cnt'], batch_size=256)"
   ]
  },
  {
   "cell_type": "code",
   "execution_count": 16,
   "metadata": {
    "collapsed": true
   },
   "outputs": [],
   "source": [
    "#! pip install graphviz\n",
    "#! pip install pydot-ng"
   ]
  },
  {
   "cell_type": "code",
   "execution_count": 14,
   "metadata": {
    "collapsed": false
   },
   "outputs": [
    {
     "data": {
      "image/svg+xml": [
       "<svg height=\"264pt\" viewBox=\"0.00 0.00 176.00 264.00\" width=\"176pt\" xmlns=\"http://www.w3.org/2000/svg\" xmlns:xlink=\"http://www.w3.org/1999/xlink\">\n",
       "<g class=\"graph\" id=\"graph0\" transform=\"scale(1 1) rotate(0) translate(4 260)\">\n",
       "<title>G</title>\n",
       "<polygon fill=\"white\" points=\"-4,4 -4,-260 172,-260 172,4 -4,4\" stroke=\"none\"/>\n",
       "<!-- 4627884464 -->\n",
       "<g class=\"node\" id=\"node1\"><title>4627884464</title>\n",
       "<polygon fill=\"none\" points=\"0,-219.5 0,-255.5 168,-255.5 168,-219.5 0,-219.5\" stroke=\"black\"/>\n",
       "<text font-family=\"Times,serif\" font-size=\"14.00\" text-anchor=\"middle\" x=\"84\" y=\"-233.8\">dense_1_input: InputLayer</text>\n",
       "</g>\n",
       "<!-- 4627791208 -->\n",
       "<g class=\"node\" id=\"node2\"><title>4627791208</title>\n",
       "<polygon fill=\"none\" points=\"31.5,-146.5 31.5,-182.5 136.5,-182.5 136.5,-146.5 31.5,-146.5\" stroke=\"black\"/>\n",
       "<text font-family=\"Times,serif\" font-size=\"14.00\" text-anchor=\"middle\" x=\"84\" y=\"-160.8\">dense_1: Dense</text>\n",
       "</g>\n",
       "<!-- 4627884464&#45;&gt;4627791208 -->\n",
       "<g class=\"edge\" id=\"edge1\"><title>4627884464-&gt;4627791208</title>\n",
       "<path d=\"M84,-219.313C84,-211.289 84,-201.547 84,-192.569\" fill=\"none\" stroke=\"black\"/>\n",
       "<polygon fill=\"black\" points=\"87.5001,-192.529 84,-182.529 80.5001,-192.529 87.5001,-192.529\" stroke=\"black\"/>\n",
       "</g>\n",
       "<!-- 4627791600 -->\n",
       "<g class=\"node\" id=\"node3\"><title>4627791600</title>\n",
       "<polygon fill=\"none\" points=\"8,-73.5 8,-109.5 160,-109.5 160,-73.5 8,-73.5\" stroke=\"black\"/>\n",
       "<text font-family=\"Times,serif\" font-size=\"14.00\" text-anchor=\"middle\" x=\"84\" y=\"-87.8\">activation_1: Activation</text>\n",
       "</g>\n",
       "<!-- 4627791208&#45;&gt;4627791600 -->\n",
       "<g class=\"edge\" id=\"edge2\"><title>4627791208-&gt;4627791600</title>\n",
       "<path d=\"M84,-146.313C84,-138.289 84,-128.547 84,-119.569\" fill=\"none\" stroke=\"black\"/>\n",
       "<polygon fill=\"black\" points=\"87.5001,-119.529 84,-109.529 80.5001,-119.529 87.5001,-119.529\" stroke=\"black\"/>\n",
       "</g>\n",
       "<!-- 4702024032 -->\n",
       "<g class=\"node\" id=\"node4\"><title>4702024032</title>\n",
       "<polygon fill=\"none\" points=\"31.5,-0.5 31.5,-36.5 136.5,-36.5 136.5,-0.5 31.5,-0.5\" stroke=\"black\"/>\n",
       "<text font-family=\"Times,serif\" font-size=\"14.00\" text-anchor=\"middle\" x=\"84\" y=\"-14.8\">dense_2: Dense</text>\n",
       "</g>\n",
       "<!-- 4627791600&#45;&gt;4702024032 -->\n",
       "<g class=\"edge\" id=\"edge3\"><title>4627791600-&gt;4702024032</title>\n",
       "<path d=\"M84,-73.3129C84,-65.2895 84,-55.5475 84,-46.5691\" fill=\"none\" stroke=\"black\"/>\n",
       "<polygon fill=\"black\" points=\"87.5001,-46.5288 84,-36.5288 80.5001,-46.5289 87.5001,-46.5288\" stroke=\"black\"/>\n",
       "</g>\n",
       "</g>\n",
       "</svg>"
      ],
      "text/plain": [
       "<IPython.core.display.SVG object>"
      ]
     },
     "execution_count": 14,
     "metadata": {},
     "output_type": "execute_result"
    }
   ],
   "source": [
    "from IPython.display import SVG\n",
    "from keras.utils.vis_utils import model_to_dot\n",
    "\n",
    "SVG(model_to_dot(model).create(prog='dot', format='svg'))"
   ]
  },
  {
   "cell_type": "code",
   "execution_count": 15,
   "metadata": {
    "collapsed": false
   },
   "outputs": [
    {
     "name": "stdout",
     "output_type": "stream",
     "text": [
      "_________________________________________________________________\n",
      "Layer (type)                 Output Shape              Param #   \n",
      "=================================================================\n",
      "dense_1 (Dense)              (None, 29)                1740      \n",
      "_________________________________________________________________\n",
      "activation_1 (Activation)    (None, 29)                0         \n",
      "_________________________________________________________________\n",
      "dense_2 (Dense)              (None, 1)                 30        \n",
      "=================================================================\n",
      "Total params: 1,770.0\n",
      "Trainable params: 1,770.0\n",
      "Non-trainable params: 0.0\n",
      "_________________________________________________________________\n"
     ]
    }
   ],
   "source": [
    "model.summary()"
   ]
  },
  {
   "cell_type": "markdown",
   "metadata": {},
   "source": [
    "## Two Layer hidden network"
   ]
  },
  {
   "cell_type": "code",
   "execution_count": 21,
   "metadata": {
    "collapsed": false
   },
   "outputs": [
    {
     "data": {
      "text/plain": [
       "(16875, 59)"
      ]
     },
     "execution_count": 21,
     "metadata": {},
     "output_type": "execute_result"
    }
   ],
   "source": [
    "train_x.shape"
   ]
  },
  {
   "cell_type": "code",
   "execution_count": 87,
   "metadata": {
    "collapsed": false
   },
   "outputs": [
    {
     "name": "stdout",
     "output_type": "stream",
     "text": [
      "Epoch 1/11\n",
      "16875/16875 [==============================] - 0s - loss: 0.9524     \n",
      "Epoch 2/11\n",
      "16875/16875 [==============================] - 0s - loss: 0.6281     \n",
      "Epoch 3/11\n",
      "16875/16875 [==============================] - 0s - loss: 0.4609     \n",
      "Epoch 4/11\n",
      "16875/16875 [==============================] - 0s - loss: 0.3414     \n",
      "Epoch 5/11\n",
      "16875/16875 [==============================] - 0s - loss: 0.2762     \n",
      "Epoch 6/11\n",
      "16875/16875 [==============================] - 0s - loss: 0.2388     \n",
      "Epoch 7/11\n",
      "16875/16875 [==============================] - 0s - loss: 0.2090     \n",
      "Epoch 8/11\n",
      "16875/16875 [==============================] - 0s - loss: 0.1815     \n",
      "Epoch 9/11\n",
      "16875/16875 [==============================] - 0s - loss: 0.1580     \n",
      "Epoch 10/11\n",
      "16875/16875 [==============================] - 0s - loss: 0.1389     \n",
      "Epoch 11/11\n",
      "16875/16875 [==============================] - 0s - loss: 0.1236     \n"
     ]
    },
    {
     "data": {
      "text/plain": [
       "<keras.callbacks.History at 0x12a4b9c88>"
      ]
     },
     "execution_count": 87,
     "metadata": {},
     "output_type": "execute_result"
    }
   ],
   "source": [
    "h_nodes = [40, 20]\n",
    "model = Sequential()\n",
    "\n",
    "# The two hidden layers (first layer needs the dimensions of x)\n",
    "model.add(Dense(h_nodes[0],input_dim=train_x.shape[1]))\n",
    "model.add(Activation(relu))\n",
    "model.add(Dense(h_nodes[1]))\n",
    "model.add(Activation('relu'))\n",
    "\n",
    "model.add(Dense(1))\n",
    "model.compile(optimizer='adadelta', loss='mse')\n",
    "model.fit(train_x, train_data['cnt'], batch_size=256, epochs=11)"
   ]
  },
  {
   "cell_type": "code",
   "execution_count": 84,
   "metadata": {
    "collapsed": true
   },
   "outputs": [],
   "source": [
    "relu?"
   ]
  },
  {
   "cell_type": "code",
   "execution_count": 60,
   "metadata": {
    "collapsed": false
   },
   "outputs": [
    {
     "name": "stdout",
     "output_type": "stream",
     "text": [
      "\r",
      "256/504 [==============>...............] - ETA: 0s"
     ]
    },
    {
     "data": {
      "text/plain": [
       "0.22703923781712851"
      ]
     },
     "execution_count": 60,
     "metadata": {},
     "output_type": "execute_result"
    }
   ],
   "source": [
    "model.evaluate(test_x, test_data['cnt'], batch_size=256)"
   ]
  },
  {
   "cell_type": "code",
   "execution_count": 61,
   "metadata": {
    "collapsed": false
   },
   "outputs": [
    {
     "name": "stdout",
     "output_type": "stream",
     "text": [
      "_________________________________________________________________\n",
      "Layer (type)                 Output Shape              Param #   \n",
      "=================================================================\n",
      "dense_34 (Dense)             (None, 40)                2400      \n",
      "_________________________________________________________________\n",
      "activation_18 (Activation)   (None, 40)                0         \n",
      "_________________________________________________________________\n",
      "dense_35 (Dense)             (None, 20)                820       \n",
      "_________________________________________________________________\n",
      "activation_19 (Activation)   (None, 20)                0         \n",
      "_________________________________________________________________\n",
      "dense_36 (Dense)             (None, 1)                 21        \n",
      "=================================================================\n",
      "Total params: 3,241.0\n",
      "Trainable params: 3,241.0\n",
      "Non-trainable params: 0.0\n",
      "_________________________________________________________________\n"
     ]
    }
   ],
   "source": [
    "model.summary()"
   ]
  },
  {
   "cell_type": "code",
   "execution_count": 62,
   "metadata": {
    "collapsed": false
   },
   "outputs": [
    {
     "data": {
      "image/svg+xml": [
       "<svg height=\"410pt\" viewBox=\"0.00 0.00 183.00 410.00\" width=\"183pt\" xmlns=\"http://www.w3.org/2000/svg\" xmlns:xlink=\"http://www.w3.org/1999/xlink\">\n",
       "<g class=\"graph\" id=\"graph0\" transform=\"scale(1 1) rotate(0) translate(4 406)\">\n",
       "<title>G</title>\n",
       "<polygon fill=\"white\" points=\"-4,4 -4,-406 179,-406 179,4 -4,4\" stroke=\"none\"/>\n",
       "<!-- 4814568192 -->\n",
       "<g class=\"node\" id=\"node1\"><title>4814568192</title>\n",
       "<polygon fill=\"none\" points=\"0,-365.5 0,-401.5 175,-401.5 175,-365.5 0,-365.5\" stroke=\"black\"/>\n",
       "<text font-family=\"Times,serif\" font-size=\"14.00\" text-anchor=\"middle\" x=\"87.5\" y=\"-379.8\">dense_34_input: InputLayer</text>\n",
       "</g>\n",
       "<!-- 4814568752 -->\n",
       "<g class=\"node\" id=\"node2\"><title>4814568752</title>\n",
       "<polygon fill=\"none\" points=\"31.5,-292.5 31.5,-328.5 143.5,-328.5 143.5,-292.5 31.5,-292.5\" stroke=\"black\"/>\n",
       "<text font-family=\"Times,serif\" font-size=\"14.00\" text-anchor=\"middle\" x=\"87.5\" y=\"-306.8\">dense_34: Dense</text>\n",
       "</g>\n",
       "<!-- 4814568192&#45;&gt;4814568752 -->\n",
       "<g class=\"edge\" id=\"edge1\"><title>4814568192-&gt;4814568752</title>\n",
       "<path d=\"M87.5,-365.313C87.5,-357.289 87.5,-347.547 87.5,-338.569\" fill=\"none\" stroke=\"black\"/>\n",
       "<polygon fill=\"black\" points=\"91.0001,-338.529 87.5,-328.529 84.0001,-338.529 91.0001,-338.529\" stroke=\"black\"/>\n",
       "</g>\n",
       "<!-- 4814569088 -->\n",
       "<g class=\"node\" id=\"node3\"><title>4814569088</title>\n",
       "<polygon fill=\"none\" points=\"8,-219.5 8,-255.5 167,-255.5 167,-219.5 8,-219.5\" stroke=\"black\"/>\n",
       "<text font-family=\"Times,serif\" font-size=\"14.00\" text-anchor=\"middle\" x=\"87.5\" y=\"-233.8\">activation_18: Activation</text>\n",
       "</g>\n",
       "<!-- 4814568752&#45;&gt;4814569088 -->\n",
       "<g class=\"edge\" id=\"edge2\"><title>4814568752-&gt;4814569088</title>\n",
       "<path d=\"M87.5,-292.313C87.5,-284.289 87.5,-274.547 87.5,-265.569\" fill=\"none\" stroke=\"black\"/>\n",
       "<polygon fill=\"black\" points=\"91.0001,-265.529 87.5,-255.529 84.0001,-265.529 91.0001,-265.529\" stroke=\"black\"/>\n",
       "</g>\n",
       "<!-- 4814700672 -->\n",
       "<g class=\"node\" id=\"node4\"><title>4814700672</title>\n",
       "<polygon fill=\"none\" points=\"31.5,-146.5 31.5,-182.5 143.5,-182.5 143.5,-146.5 31.5,-146.5\" stroke=\"black\"/>\n",
       "<text font-family=\"Times,serif\" font-size=\"14.00\" text-anchor=\"middle\" x=\"87.5\" y=\"-160.8\">dense_35: Dense</text>\n",
       "</g>\n",
       "<!-- 4814569088&#45;&gt;4814700672 -->\n",
       "<g class=\"edge\" id=\"edge3\"><title>4814569088-&gt;4814700672</title>\n",
       "<path d=\"M87.5,-219.313C87.5,-211.289 87.5,-201.547 87.5,-192.569\" fill=\"none\" stroke=\"black\"/>\n",
       "<polygon fill=\"black\" points=\"91.0001,-192.529 87.5,-182.529 84.0001,-192.529 91.0001,-192.529\" stroke=\"black\"/>\n",
       "</g>\n",
       "<!-- 4814700728 -->\n",
       "<g class=\"node\" id=\"node5\"><title>4814700728</title>\n",
       "<polygon fill=\"none\" points=\"8,-73.5 8,-109.5 167,-109.5 167,-73.5 8,-73.5\" stroke=\"black\"/>\n",
       "<text font-family=\"Times,serif\" font-size=\"14.00\" text-anchor=\"middle\" x=\"87.5\" y=\"-87.8\">activation_19: Activation</text>\n",
       "</g>\n",
       "<!-- 4814700672&#45;&gt;4814700728 -->\n",
       "<g class=\"edge\" id=\"edge4\"><title>4814700672-&gt;4814700728</title>\n",
       "<path d=\"M87.5,-146.313C87.5,-138.289 87.5,-128.547 87.5,-119.569\" fill=\"none\" stroke=\"black\"/>\n",
       "<polygon fill=\"black\" points=\"91.0001,-119.529 87.5,-109.529 84.0001,-119.529 91.0001,-119.529\" stroke=\"black\"/>\n",
       "</g>\n",
       "<!-- 4814701288 -->\n",
       "<g class=\"node\" id=\"node6\"><title>4814701288</title>\n",
       "<polygon fill=\"none\" points=\"31.5,-0.5 31.5,-36.5 143.5,-36.5 143.5,-0.5 31.5,-0.5\" stroke=\"black\"/>\n",
       "<text font-family=\"Times,serif\" font-size=\"14.00\" text-anchor=\"middle\" x=\"87.5\" y=\"-14.8\">dense_36: Dense</text>\n",
       "</g>\n",
       "<!-- 4814700728&#45;&gt;4814701288 -->\n",
       "<g class=\"edge\" id=\"edge5\"><title>4814700728-&gt;4814701288</title>\n",
       "<path d=\"M87.5,-73.3129C87.5,-65.2895 87.5,-55.5475 87.5,-46.5691\" fill=\"none\" stroke=\"black\"/>\n",
       "<polygon fill=\"black\" points=\"91.0001,-46.5288 87.5,-36.5288 84.0001,-46.5289 91.0001,-46.5288\" stroke=\"black\"/>\n",
       "</g>\n",
       "</g>\n",
       "</svg>"
      ],
      "text/plain": [
       "<IPython.core.display.SVG object>"
      ]
     },
     "execution_count": 62,
     "metadata": {},
     "output_type": "execute_result"
    }
   ],
   "source": [
    "SVG(model_to_dot(model).create(prog='dot', format='svg'))"
   ]
  },
  {
   "cell_type": "markdown",
   "metadata": {},
   "source": [
    "## Best Hyper parameters"
   ]
  },
  {
   "cell_type": "code",
   "execution_count": 65,
   "metadata": {
    "collapsed": true
   },
   "outputs": [],
   "source": [
    "from keras.wrappers.scikit_learn import KerasRegressor\n",
    "from sklearn.model_selection import GridSearchCV"
   ]
  },
  {
   "cell_type": "code",
   "execution_count": 129,
   "metadata": {
    "collapsed": false
   },
   "outputs": [],
   "source": [
    "import keras.backend as K\n",
    "\n",
    "def create_model(layers, activation):\n",
    "    model = Sequential()\n",
    "    for i, nodes in enumerate(layers):\n",
    "        if i==0:\n",
    "            model.add(Dense(nodes,input_dim=train_x.shape[1]))\n",
    "            model.add(Activation(activation))\n",
    "        else:\n",
    "            model.add(Dense(nodes))\n",
    "            model.add(Activation(activation))\n",
    "    model.add(Dense(1)) # Note: no activation beyond this point\n",
    "    \n",
    "    model.compile(optimizer='adadelta', loss='mse')\n",
    "    return model\n",
    "    \n",
    "model = KerasRegressor(build_fn=create_model, verbose=0)    "
   ]
  },
  {
   "cell_type": "code",
   "execution_count": 130,
   "metadata": {
    "collapsed": false
   },
   "outputs": [],
   "source": [
    "layers = [[30], [20, 40], [15, 30, 40]]\n",
    "activations = [sigmoid, relu]\n",
    "param_grid = dict(layers=layers, activation=activations, batch_size = [256], epochs=[30])\n",
    "grid = GridSearchCV(estimator=model, param_grid=param_grid, scoring='neg_mean_squared_error')"
   ]
  },
  {
   "cell_type": "code",
   "execution_count": 131,
   "metadata": {
    "collapsed": false
   },
   "outputs": [],
   "source": [
    "grid_result = grid.fit(train_x, train_data['cnt'])"
   ]
  },
  {
   "cell_type": "code",
   "execution_count": 132,
   "metadata": {
    "collapsed": false
   },
   "outputs": [
    {
     "data": {
      "text/plain": [
       "[-0.17708188639848754,\n",
       " {'activation': <function keras.activations.relu>,\n",
       "  'batch_size': 256,\n",
       "  'epochs': 30,\n",
       "  'layers': [20, 40]}]"
      ]
     },
     "execution_count": 132,
     "metadata": {},
     "output_type": "execute_result"
    }
   ],
   "source": [
    "[grid_result.best_score_, grid_result.best_params_]"
   ]
  },
  {
   "cell_type": "code",
   "execution_count": 133,
   "metadata": {
    "collapsed": false
   },
   "outputs": [
    {
     "name": "stdout",
     "output_type": "stream",
     "text": [
      "-0.367292 (0.168650) with: {'activation': <function sigmoid at 0x1128bd378>, 'batch_size': 256, 'epochs': 30, 'layers': [30]}\n",
      "-0.328390 (0.161948) with: {'activation': <function sigmoid at 0x1128bd378>, 'batch_size': 256, 'epochs': 30, 'layers': [20, 40]}\n",
      "-0.318988 (0.165634) with: {'activation': <function sigmoid at 0x1128bd378>, 'batch_size': 256, 'epochs': 30, 'layers': [15, 30, 40]}\n",
      "-0.204326 (0.086713) with: {'activation': <function relu at 0x1128bd268>, 'batch_size': 256, 'epochs': 30, 'layers': [30]}\n",
      "-0.177082 (0.056783) with: {'activation': <function relu at 0x1128bd268>, 'batch_size': 256, 'epochs': 30, 'layers': [20, 40]}\n",
      "-0.208913 (0.081554) with: {'activation': <function relu at 0x1128bd268>, 'batch_size': 256, 'epochs': 30, 'layers': [15, 30, 40]}\n"
     ]
    },
    {
     "name": "stderr",
     "output_type": "stream",
     "text": [
      "/Users/sachin/anaconda/lib/python3.5/site-packages/sklearn/model_selection/_search.py:662: DeprecationWarning: The grid_scores_ attribute was deprecated in version 0.18 in favor of the more elaborate cv_results_ attribute. The grid_scores_ attribute will not be available from 0.20\n",
      "  DeprecationWarning)\n"
     ]
    }
   ],
   "source": [
    "for params, mean_score, scores in grid_result.grid_scores_:\n",
    "    print(\"%f (%f) with: %r\" % (scores.mean(), scores.std(), params))"
   ]
  },
  {
   "cell_type": "code",
   "execution_count": null,
   "metadata": {
    "collapsed": true
   },
   "outputs": [],
   "source": []
  }
 ],
 "metadata": {
  "anaconda-cloud": {},
  "kernelspec": {
   "display_name": "Python [default]",
   "language": "python",
   "name": "python3"
  },
  "language_info": {
   "codemirror_mode": {
    "name": "ipython",
    "version": 3
   },
   "file_extension": ".py",
   "mimetype": "text/x-python",
   "name": "python",
   "nbconvert_exporter": "python",
   "pygments_lexer": "ipython3",
   "version": "3.5.2"
  },
  "latex_envs": {
   "bibliofile": "biblio.bib",
   "cite_by": "apalike",
   "current_citInitial": 1,
   "eqLabelWithNumbers": true,
   "eqNumInitial": 0
  }
 },
 "nbformat": 4,
 "nbformat_minor": 2
}
