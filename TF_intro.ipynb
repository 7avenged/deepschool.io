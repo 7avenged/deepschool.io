{
 "cells": [
  {
   "cell_type": "markdown",
   "metadata": {},
   "source": [
    "# Intro to TensorFlow"
   ]
  },
  {
   "cell_type": "markdown",
   "metadata": {},
   "source": [
    "## Backpropagation on zero hidden layer classification case\n",
    "\n",
    "\\begin{align}\n",
    "z_i =& Wx_i\\\\\n",
    "a_i =& \\sigma(z_i)\n",
    "\\end{align}\n",
    "where $\\sigma(z_i) = 1/(1+exp(-z_i))$ is the sigmoid function and the loss function is $$\\mathcal{L} = \\frac{1}{2N}\\sum_i (y_i-a_i)^2$$.\n",
    "\n",
    "We need to adjust the $W$ to minimise the loss function. We use the chain rule:\n",
    "\\begin{align}\n",
    "\\frac{d \\mathcal{L}}{dW} =& \\sum_i \\frac{d\\mathcal{L}}{da_i}\\frac{da_i}{dz_i}\\frac{dz_i}{dW}\\\\\n",
    "=& \\frac{1}{N}\\sum_i -(y_i-a_i)\\cdot\\frac{\\exp(-z)}{(1+\\exp(-z))^2}\\cdot x_i\\\\\n",
    "=& \\frac{1}{N}\\sum_i -(y_i-a_i)\\cdot a_i(1-a_i)\\cdot x_i\n",
    "\\end{align}"
   ]
  },
  {
   "cell_type": "code",
   "execution_count": 1,
   "metadata": {
    "collapsed": true
   },
   "outputs": [],
   "source": [
    "import numpy as np\n",
    "import matplotlib.pyplot as plt\n",
    "\n",
    "%matplotlib inline"
   ]
  },
  {
   "cell_type": "code",
   "execution_count": 2,
   "metadata": {
    "collapsed": false
   },
   "outputs": [
    {
     "data": {
      "text/plain": [
       "[<matplotlib.lines.Line2D at 0x10f687198>]"
      ]
     },
     "execution_count": 2,
     "metadata": {},
     "output_type": "execute_result"
    },
    {
     "data": {
      "image/png": "[encoded data removed]",
      "text/plain": [
       "<matplotlib.figure.Figure at 0x10d2464e0>"
      ]
     },
     "metadata": {},
     "output_type": "display_data"
    }
   ],
   "source": [
    "def sigmoid(z):\n",
    "    return 1/(1+np.exp(-z))\n",
    "\n",
    "z = np.arange(-5,5,0.1)\n",
    "\n",
    "plt.plot(z,sigmoid(z))\n",
    "plt.plot([0,0],[0,1],'r')\n",
    "plt.plot([-6,6],[0.5,0.5],'r')"
   ]
  },
  {
   "cell_type": "code",
   "execution_count": 3,
   "metadata": {
    "collapsed": true
   },
   "outputs": [],
   "source": [
    "N = 1000\n",
    "D = 5\n",
    "\n",
    "X = 5*np.random.randn(N,D)\n",
    "w = np.random.randn(D,1)\n",
    "y = X.dot(w)\n",
    "\n",
    "y[y<=0] = 0 \n",
    "y[y>0] = 1"
   ]
  },
  {
   "cell_type": "code",
   "execution_count": 31,
   "metadata": {
    "collapsed": true
   },
   "outputs": [],
   "source": [
    "def dL_dw(X,e,a):\n",
    "    return -X.T.dot(e*a*(1-a))/len(X)\n",
    "\n",
    "def gradient_descent(gamma=5e-1, n_epochs=1000, batch_size=100, decay=0.9):\n",
    "    epoch_run = int(len(X)/batch_size)\n",
    "    \n",
    "    # get starting conditions\n",
    "    w = np.random.randn(D,1)\n",
    "    params = []\n",
    "    loss = np.zeros((n_epochs,1))\n",
    "    for i in range(n_epochs):\n",
    "        params.append(w)\n",
    "        \n",
    "        for j in range(epoch_run):\n",
    "            idx = np.random.choice(len(X),batch_size,replace=False)\n",
    "            a = sigmoid(X[idx].dot(w)) # Activation function\n",
    "            e = y[idx] - a # Really important that you use y_obs and not y (you do not have access to true y)\n",
    "            #update parameters\n",
    "            w = w - gamma*dL_dw(X[idx],e,a)\n",
    "        loss[i] = 0.5*e.T.dot(e)/len(e)    \n",
    "        gamma = gamma*decay #decay the learning parameter\n",
    "        \n",
    "    return params, loss\n",
    "        \n",
    "params, loss = gradient_descent()"
   ]
  },
  {
   "cell_type": "code",
   "execution_count": 32,
   "metadata": {
    "collapsed": false
   },
   "outputs": [
    {
     "data": {
      "text/plain": [
       "[<matplotlib.lines.Line2D at 0x111351048>]"
      ]
     },
     "execution_count": 32,
     "metadata": {},
     "output_type": "execute_result"
    },
    {
     "data": {
      "image/png": "[encoded data removed]",
      "text/plain": [
       "<matplotlib.figure.Figure at 0x11066c1d0>"
      ]
     },
     "metadata": {},
     "output_type": "display_data"
    }
   ],
   "source": [
    "plt.plot(loss)"
   ]
  },
  {
   "cell_type": "code",
   "execution_count": 33,
   "metadata": {
    "collapsed": false
   },
   "outputs": [
    {
     "data": {
      "text/plain": [
       "array([[-1.46670479, -2.7368675 ],\n",
       "       [ 0.64419813,  1.14573091],\n",
       "       [-0.47072126, -0.86550068],\n",
       "       [ 0.12093584,  0.22354711],\n",
       "       [ 0.29427657,  0.55195501]])"
      ]
     },
     "execution_count": 33,
     "metadata": {},
     "output_type": "execute_result"
    }
   ],
   "source": [
    "np.hstack([params[-1],w])"
   ]
  },
  {
   "cell_type": "code",
   "execution_count": 34,
   "metadata": {
    "collapsed": false
   },
   "outputs": [
    {
     "data": {
      "text/plain": [
       "array([[ 0.00271073]])"
      ]
     },
     "execution_count": 34,
     "metadata": {},
     "output_type": "execute_result"
    }
   ],
   "source": [
    "idx = np.random.choice(len(X),20,replace=False)\n",
    "a = sigmoid(X[idx].dot(w)) # Activation function\n",
    "e = y[idx] - a\n",
    "0.5*e.T.dot(e)/len(e)"
   ]
  },
  {
   "cell_type": "code",
   "execution_count": 35,
   "metadata": {
    "collapsed": false
   },
   "outputs": [
    {
     "data": {
      "text/plain": [
       "99"
      ]
     },
     "execution_count": 35,
     "metadata": {},
     "output_type": "execute_result"
    }
   ],
   "source": [
    "# Classification error\n",
    "X_test = 5*np.random.randn(100,D)\n",
    "y_test = X_test.dot(w)\n",
    "y_test[y_test<=0] = 0 \n",
    "y_test[y_test>0] = 1\n",
    "\n",
    "y_inferred = sigmoid(X_test.dot(params[-1])) # Get a probability measure given X\n",
    "y_inferred[y_inferred>0.5] = 1\n",
    "y_inferred[y_inferred<=0.5] = 0\n",
    "\n",
    "np.sum(y_test==y_inferred)"
   ]
  },
  {
   "cell_type": "markdown",
   "metadata": {},
   "source": [
    "## Cross Entropy Error\n",
    "\n",
    "We shall focus on doing the same as above with a different loss function, the Cross Entropy Loss function.\n",
    "$$\\mathcal{L} = -\\frac{1}{N}\\sum_i y_i\\log(a_i)+(1-y_i)\\log(1-a_i)$$.\n",
    "\n",
    "The following remains the same:\n",
    "\\begin{align}\n",
    "z_i =& Wx_i\\\\\n",
    "a_i =& \\sigma(z_i)\n",
    "\\end{align}\n",
    "and the derivative,\n",
    "\\begin{align}\n",
    "\\frac{d \\mathcal{L}}{dW} =& \\sum_i \\frac{d\\mathcal{L}}{da_i}\\frac{da_i}{dz_i}\\frac{dz_i}{dW}\\\\\n",
    "=& \\frac{1}{N}\\sum_i -\\left(\\frac{y_i}{a_i}-\\frac{1-y_i}{1-a_i}\\right)\\cdot\\frac{\\exp(-z)}{(1+\\exp(-z))^2}\\cdot x_i\\\\\n",
    "=& \\frac{1}{N}\\sum_i -\\left(\\frac{y_i-a_i}{a_i(1-a_i)}\\right)\\cdot a_i(1-a_i)\\cdot x_i\\\\\n",
    "=& \\frac{1}{N}\\sum_i -(y_i-a_i)\\cdot x_i\n",
    "\\end{align}"
   ]
  },
  {
   "cell_type": "code",
   "execution_count": 27,
   "metadata": {
    "collapsed": false
   },
   "outputs": [],
   "source": [
    "from IPython.core.debugger import Tracer;\n",
    "\n",
    "def dL_dw(X,e,a):\n",
    "    return -X.T.dot(e)/len(X)\n",
    "\n",
    "def gradient_descent(gamma=1e-2, n_epochs=1000, batch_size=100, decay=0.9):\n",
    "    epoch_run = int(len(X)/batch_size)\n",
    "    \n",
    "    # get starting conditions\n",
    "    # NOTE: I initialised w such that its variance is 1/D\n",
    "    w = np.random.randn(D,1)*(1/np.sqrt(D))\n",
    "    params = []\n",
    "    loss = np.zeros((n_epochs,1))\n",
    "    for i in range(n_epochs):\n",
    "        params.append(w)\n",
    "        \n",
    "        for j in range(epoch_run):\n",
    "            idx = np.random.choice(len(X),batch_size,replace=False)\n",
    "            a = sigmoid(X[idx].dot(w)) # Activation function\n",
    "            e = y[idx] - a # Really important that you use y_obs and not y (you do not have access to true y)  \n",
    "            w = w - gamma*dL_dw(X[idx],e,a)\n",
    "#         \n",
    "        loss[i] = -np.mean(y[idx]*np.log(a+1e-10)+(1-y[idx])*np.log(1-a+1e-10))\n",
    "        gamma = gamma*decay #decay the learning parameter\n",
    "        \n",
    "    return params, loss\n",
    "        \n",
    "params, loss = gradient_descent()"
   ]
  },
  {
   "cell_type": "code",
   "execution_count": 28,
   "metadata": {
    "collapsed": false
   },
   "outputs": [
    {
     "data": {
      "text/plain": [
       "[<matplotlib.lines.Line2D at 0x110660748>]"
      ]
     },
     "execution_count": 28,
     "metadata": {},
     "output_type": "execute_result"
    },
    {
     "data": {
      "image/png": "[encoded data removed]",
      "text/plain": [
       "<matplotlib.figure.Figure at 0x1106e4d30>"
      ]
     },
     "metadata": {},
     "output_type": "display_data"
    }
   ],
   "source": [
    "plt.plot(loss)"
   ]
  },
  {
   "cell_type": "code",
   "execution_count": 29,
   "metadata": {
    "collapsed": false
   },
   "outputs": [
    {
     "data": {
      "text/plain": [
       "array([[-0.50998383, -2.7368675 ],\n",
       "       [ 0.23699757,  1.14573091],\n",
       "       [-0.13707258, -0.86550068],\n",
       "       [ 0.06313438,  0.22354711],\n",
       "       [ 0.0992678 ,  0.55195501]])"
      ]
     },
     "execution_count": 29,
     "metadata": {},
     "output_type": "execute_result"
    }
   ],
   "source": [
    "np.hstack([params[-1],w])"
   ]
  },
  {
   "cell_type": "code",
   "execution_count": 30,
   "metadata": {
    "collapsed": false
   },
   "outputs": [
    {
     "data": {
      "text/plain": [
       "98"
      ]
     },
     "execution_count": 30,
     "metadata": {},
     "output_type": "execute_result"
    }
   ],
   "source": [
    "# Classification error\n",
    "X_test = 5*np.random.randn(100,D)\n",
    "y_test = X_test.dot(w)\n",
    "y_test[y_test<=0] = 0 \n",
    "y_test[y_test>0] = 1\n",
    "\n",
    "y_inferred = sigmoid(X_test.dot(params[-1])) # Get a probability measure given X\n",
    "y_inferred[y_inferred>0.5] = 1\n",
    "y_inferred[y_inferred<=0.5] = 0\n",
    "\n",
    "np.sum(y_test==y_inferred)"
   ]
  },
  {
   "cell_type": "markdown",
   "metadata": {
    "collapsed": true
   },
   "source": [
    "## Tensorflow Introduction"
   ]
  },
  {
   "cell_type": "code",
   "execution_count": 36,
   "metadata": {
    "collapsed": true
   },
   "outputs": [],
   "source": [
    "import tensorflow as tf"
   ]
  },
  {
   "cell_type": "code",
   "execution_count": 45,
   "metadata": {
    "collapsed": true
   },
   "outputs": [],
   "source": [
    "def tf_train(X_train, y_train, batch_size=20):\n",
    "    # Dataset (inputs and labels)\n",
    "    x = tf.placeholder(tf.float32, [None, D])\n",
    "    y_ = tf.placeholder(tf.float32, [None, 1])\n",
    "    \n",
    "    # random variable\n",
    "    W = tf.Variable(tf.random_normal([D, 1],stddev=1/np.sqrt(D)))\n",
    "    \n",
    "    # map X to inferred output function\n",
    "    a = tf.sigmoid(tf.matmul(x, W))\n",
    "\n",
    "    # Define loss and optimizer\n",
    "    cross_entropy = tf.reduce_mean(-(y_*tf.log(a)+(1-y_)*tf.log(1-a)))\n",
    "    train_step = tf.train.GradientDescentOptimizer(1e-2).minimize(cross_entropy)\n",
    "\n",
    "    sess = tf.InteractiveSession()\n",
    "    tf.initialize_all_variables().run()\n",
    "    # Train\n",
    "    for epoch in range(1000):\n",
    "        idx = np.random.choice(len(X_train),batch_size,replace=False)\n",
    "        _,l = sess.run([train_step, cross_entropy], feed_dict={x: X_train[idx], y_: y_train[idx]})\n",
    "        if epoch%100 == 0:\n",
    "            print('loss: '+str(l))\n",
    "        "
   ]
  },
  {
   "cell_type": "code",
   "execution_count": 46,
   "metadata": {
    "collapsed": false
   },
   "outputs": [
    {
     "name": "stdout",
     "output_type": "stream",
     "text": [
      "loss: 1.24389\n",
      "loss: 0.197636\n",
      "loss: 0.103187\n",
      "loss: 0.109315\n",
      "loss: nan\n",
      "loss: nan\n",
      "loss: nan\n",
      "loss: nan\n",
      "loss: nan\n",
      "loss: nan\n"
     ]
    }
   ],
   "source": [
    "tf_train(X,y)"
   ]
  },
  {
   "cell_type": "code",
   "execution_count": 56,
   "metadata": {
    "collapsed": false
   },
   "outputs": [],
   "source": [
    "def tf_train(X_train, y_train, batch_size=20, n_epoch=1000):\n",
    "    x = tf.placeholder(tf.float32, [None, D])\n",
    "    W = tf.Variable(tf.random_normal([D, 1],stddev=1/np.sqrt(D)))\n",
    "\n",
    "    # Define loss and optimizer\n",
    "    y_ = tf.placeholder(tf.float32, [None, 1])\n",
    "\n",
    "    cross_entropy = tf.reduce_mean(tf.nn.sigmoid_cross_entropy_with_logits(tf.matmul(x,W),y_))\n",
    "    train_step = tf.train.GradientDescentOptimizer(1e-2).minimize(cross_entropy)\n",
    "\n",
    "    sess = tf.InteractiveSession()\n",
    "    tf.initialize_all_variables().run()\n",
    "    # Train\n",
    "    for epoch in range(n_epoch):\n",
    "        idx = np.random.choice(len(X_train),batch_size,replace=False)\n",
    "        _,l = sess.run([train_step, cross_entropy], feed_dict={x: X_train[idx], y_: y_train[idx]})\n",
    "        if epoch%100 == 0:\n",
    "            print('loss: '+str(l))\n",
    "            \n",
    "    return sess.run(W)"
   ]
  },
  {
   "cell_type": "code",
   "execution_count": 57,
   "metadata": {
    "collapsed": false
   },
   "outputs": [
    {
     "name": "stdout",
     "output_type": "stream",
     "text": [
      "loss: 3.69936\n",
      "loss: 0.29315\n",
      "loss: 0.171762\n",
      "loss: 0.154002\n",
      "loss: 0.195182\n",
      "loss: 0.178514\n",
      "loss: 0.143999\n",
      "loss: 0.131142\n",
      "loss: 0.0805718\n",
      "loss: 0.116589\n"
     ]
    }
   ],
   "source": [
    "w_est = tf_train(X,y)"
   ]
  },
  {
   "cell_type": "code",
   "execution_count": 59,
   "metadata": {
    "collapsed": false
   },
   "outputs": [
    {
     "data": {
      "text/plain": [
       "array([[-1.31309998, -2.7368675 ],\n",
       "       [ 0.57441157,  1.14573091],\n",
       "       [-0.42174405, -0.86550068],\n",
       "       [ 0.09112696,  0.22354711],\n",
       "       [ 0.26287264,  0.55195501]])"
      ]
     },
     "execution_count": 59,
     "metadata": {},
     "output_type": "execute_result"
    }
   ],
   "source": [
    "np.hstack([w_est,w])"
   ]
  },
  {
   "cell_type": "code",
   "execution_count": 60,
   "metadata": {
    "collapsed": false
   },
   "outputs": [
    {
     "data": {
      "text/plain": [
       "100"
      ]
     },
     "execution_count": 60,
     "metadata": {},
     "output_type": "execute_result"
    }
   ],
   "source": [
    "# Classification error\n",
    "X_test = 5*np.random.randn(100,D)\n",
    "y_test = X_test.dot(w)\n",
    "y_test[y_test<=0] = 0 \n",
    "y_test[y_test>0] = 1\n",
    "\n",
    "y_inferred = sigmoid(X_test.dot(w_est)) # Get a probability measure given X\n",
    "y_inferred[y_inferred>0.5] = 1\n",
    "y_inferred[y_inferred<=0.5] = 0\n",
    "\n",
    "np.sum(y_test==y_inferred)"
   ]
  },
  {
   "cell_type": "code",
   "execution_count": null,
   "metadata": {
    "collapsed": true
   },
   "outputs": [],
   "source": []
  }
 ],
 "metadata": {
  "anaconda-cloud": {},
  "kernelspec": {
   "display_name": "Python [conda root]",
   "language": "python",
   "name": "conda-root-py"
  },
  "language_info": {
   "codemirror_mode": {
    "name": "ipython",
    "version": 3
   },
   "file_extension": ".py",
   "mimetype": "text/x-python",
   "name": "python",
   "nbconvert_exporter": "python",
   "pygments_lexer": "ipython3",
   "version": "3.5.2"
  },
  "latex_envs": {
   "bibliofile": "biblio.bib",
   "cite_by": "apalike",
   "current_citInitial": 1,
   "eqLabelWithNumbers": true,
   "eqNumInitial": 0
  }
 },
 "nbformat": 4,
 "nbformat_minor": 1
}
