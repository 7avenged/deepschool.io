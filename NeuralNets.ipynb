{
 "cells": [
  {
   "cell_type": "markdown",
   "metadata": {},
   "source": [
    "# Deep Learning - Hidden Layers\n",
    "\n",
    "## Why do we stack layers \n",
    "(adapted from http://stats.stackexchange.com/questions/63152/what-does-the-hidden-layer-in-a-neural-network-compute)\n",
    "\n",
    "Let's call the input vector $x$, the hidden layer activations $h$, and the output activation $y$.  You have some function $f$ that maps from $x$ to $h$ and another function $g$ that maps from $h$ to $y$.  \n",
    "\n",
    "So the hidden layer's activation is $f(x)$ and the output of the network is $g(f(x))$.\n",
    "\n",
    "**Why have two functions ($f$ and $g$) instead of just one?**\n",
    "\n",
    "If the level of complexity per function is limited, then $g(f(x))$ can compute things that $f$ and $g$ can't do individually.  \n",
    "\n",
    "------\n",
    "\n",
    "**An example with logical functions:**\n",
    "\n",
    "For example, if we only allow $f$ and $g$ to be simple logical operators like \"AND\", \"OR\", and \"NAND\", then you can't compute other functions like \"XOR\" with just one of them.  On the other hand, we *could* compute \"XOR\" if we were willing to layer these functions on top of each other: \n",
    "\n",
    "First layer functions:\n",
    "\n",
    "* Make sure that at least one element is \"TRUE\" (using OR)\n",
    "* Make sure that they're not all \"TRUE\" (using NAND)\n",
    "\n",
    "Second layer function:\n",
    "\n",
    "* Make sure that both of the first-layer criteria are satisfied (using AND)\n",
    "\n",
    "The network's output is just the result of this second function.  The first layer *transforms the inputs* into something that the second layer can use so that the whole network can perform XOR.\n",
    "\n",
    "----\n",
    "\n",
    "**An example with images:**\n",
    "\n",
    "Slide 61 from [this talk](http://cs.nyu.edu/~fergus/tutorials/deep_learning_cvpr12/CVPR2012-Tutorial_lee.pdf) as a single image--shows (one way to visualize) what the different hidden layers in a particular neural network are looking for.\n",
    "\n",
    "![cnn](Screen Shot 2017-02-13 at 11.16.44 AM.png)\n",
    "\n",
    "The first layer looks for short pieces of edges in the image: these are very easy to find from raw pixel data, but they're not very useful by themselves for telling you if you're looking at a face or a bus or an elephant.\n",
    "\n",
    "The next layer composes the edges: if the edges from the bottom hidden layer fit together in a certain way, then one of the eye-detectors in the middle of left-most column might turn on.  It would be hard to make a single layer that was so good at finding something so specific from the raw pixels: eye detectors are much easier to build out of edge detectors than out of raw pixels.\n",
    "\n",
    "The next layer up composes the eye detectors and the nose detectors into faces.  In other words, these will light up when the eye detectors and nose detectors from the previous layer turn on with the right patterns.  These are very good at looking for particular kinds of faces: if one or more of them lights up, then your output layer should report that a face is present.\n",
    "\n",
    "This is useful because **face detectors are easy to build out of eye detectors and nose detectors, but really hard to build out of pixel intensities.**\n",
    "\n",
    "So each layer gets you farther and farther from the raw pixels and closer to your ultimate goal (e.g. face detection or bus detection)."
   ]
  },
  {
   "cell_type": "code",
   "execution_count": null,
   "metadata": {
    "collapsed": true
   },
   "outputs": [],
   "source": []
  }
 ],
 "metadata": {
  "kernelspec": {
   "display_name": "Python [default]",
   "language": "python",
   "name": "python3"
  },
  "language_info": {
   "codemirror_mode": {
    "name": "ipython",
    "version": 3
   },
   "file_extension": ".py",
   "mimetype": "text/x-python",
   "name": "python",
   "nbconvert_exporter": "python",
   "pygments_lexer": "ipython3",
   "version": "3.5.2"
  },
  "latex_envs": {
   "bibliofile": "biblio.bib",
   "cite_by": "apalike",
   "current_citInitial": 1,
   "eqLabelWithNumbers": true,
   "eqNumInitial": 0
  }
 },
 "nbformat": 4,
 "nbformat_minor": 1
}
