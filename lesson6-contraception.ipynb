{
 "cells": [
  {
   "cell_type": "code",
   "execution_count": 49,
   "metadata": {
    "collapsed": false
   },
   "outputs": [],
   "source": [
    "import pandas as pd\n",
    "import numpy as np\n",
    "\n",
    "from keras.models import Sequential\n",
    "from keras.layers import Dense, Activation, Embedding, Merge, Flatten\n",
    "\n",
    "from sklearn.model_selection import train_test_split\n",
    "from sklearn.preprocessing import StandardScaler\n",
    "\n",
    "import matplotlib.pyplot as plt\n",
    "%matplotlib inline"
   ]
  },
  {
   "cell_type": "code",
   "execution_count": 2,
   "metadata": {
    "collapsed": false
   },
   "outputs": [
    {
     "data": {
      "text/html": [
       "<div>\n",
       "<table border=\"1\" class=\"dataframe\">\n",
       "  <thead>\n",
       "    <tr style=\"text-align: right;\">\n",
       "      <th></th>\n",
       "      <th>Age</th>\n",
       "      <th>Education</th>\n",
       "      <th>H_education</th>\n",
       "      <th>num_child</th>\n",
       "      <th>Religion</th>\n",
       "      <th>Employ</th>\n",
       "      <th>H_occupation</th>\n",
       "      <th>living_standard</th>\n",
       "      <th>Media_exposure</th>\n",
       "      <th>contraceptive</th>\n",
       "    </tr>\n",
       "  </thead>\n",
       "  <tbody>\n",
       "    <tr>\n",
       "      <th>0</th>\n",
       "      <td>24</td>\n",
       "      <td>2</td>\n",
       "      <td>3</td>\n",
       "      <td>3</td>\n",
       "      <td>1</td>\n",
       "      <td>1</td>\n",
       "      <td>2</td>\n",
       "      <td>3</td>\n",
       "      <td>0</td>\n",
       "      <td>1</td>\n",
       "    </tr>\n",
       "    <tr>\n",
       "      <th>1</th>\n",
       "      <td>45</td>\n",
       "      <td>1</td>\n",
       "      <td>3</td>\n",
       "      <td>10</td>\n",
       "      <td>1</td>\n",
       "      <td>1</td>\n",
       "      <td>3</td>\n",
       "      <td>4</td>\n",
       "      <td>0</td>\n",
       "      <td>1</td>\n",
       "    </tr>\n",
       "    <tr>\n",
       "      <th>2</th>\n",
       "      <td>43</td>\n",
       "      <td>2</td>\n",
       "      <td>3</td>\n",
       "      <td>7</td>\n",
       "      <td>1</td>\n",
       "      <td>1</td>\n",
       "      <td>3</td>\n",
       "      <td>4</td>\n",
       "      <td>0</td>\n",
       "      <td>1</td>\n",
       "    </tr>\n",
       "    <tr>\n",
       "      <th>3</th>\n",
       "      <td>42</td>\n",
       "      <td>3</td>\n",
       "      <td>2</td>\n",
       "      <td>9</td>\n",
       "      <td>1</td>\n",
       "      <td>1</td>\n",
       "      <td>3</td>\n",
       "      <td>3</td>\n",
       "      <td>0</td>\n",
       "      <td>1</td>\n",
       "    </tr>\n",
       "    <tr>\n",
       "      <th>4</th>\n",
       "      <td>36</td>\n",
       "      <td>3</td>\n",
       "      <td>3</td>\n",
       "      <td>8</td>\n",
       "      <td>1</td>\n",
       "      <td>1</td>\n",
       "      <td>3</td>\n",
       "      <td>2</td>\n",
       "      <td>0</td>\n",
       "      <td>1</td>\n",
       "    </tr>\n",
       "  </tbody>\n",
       "</table>\n",
       "</div>"
      ],
      "text/plain": [
       "   Age  Education  H_education  num_child  Religion  Employ  H_occupation  \\\n",
       "0   24          2            3          3         1       1             2   \n",
       "1   45          1            3         10         1       1             3   \n",
       "2   43          2            3          7         1       1             3   \n",
       "3   42          3            2          9         1       1             3   \n",
       "4   36          3            3          8         1       1             3   \n",
       "\n",
       "   living_standard  Media_exposure  contraceptive  \n",
       "0                3               0              1  \n",
       "1                4               0              1  \n",
       "2                4               0              1  \n",
       "3                3               0              1  \n",
       "4                2               0              1  "
      ]
     },
     "execution_count": 2,
     "metadata": {},
     "output_type": "execute_result"
    }
   ],
   "source": [
    "df = pd.read_csv('cmc.data',header=None,names=['Age','Education','H_education',\n",
    "                                                     'num_child','Religion', 'Employ',\n",
    "                                                     'H_occupation','living_standard',\n",
    "                                                     'Media_exposure','contraceptive'])\n",
    "df.head()"
   ]
  },
  {
   "cell_type": "code",
   "execution_count": 3,
   "metadata": {
    "collapsed": false
   },
   "outputs": [
    {
     "data": {
      "text/plain": [
       "Age                False\n",
       "Education          False\n",
       "H_education        False\n",
       "num_child          False\n",
       "Religion           False\n",
       "Employ             False\n",
       "H_occupation       False\n",
       "living_standard    False\n",
       "Media_exposure     False\n",
       "contraceptive      False\n",
       "dtype: bool"
      ]
     },
     "execution_count": 3,
     "metadata": {},
     "output_type": "execute_result"
    }
   ],
   "source": [
    "df.isnull().any()"
   ]
  },
  {
   "cell_type": "code",
   "execution_count": 4,
   "metadata": {
    "collapsed": false
   },
   "outputs": [
    {
     "data": {
      "text/plain": [
       "(1473, 10)"
      ]
     },
     "execution_count": 4,
     "metadata": {},
     "output_type": "execute_result"
    }
   ],
   "source": [
    "df.shape"
   ]
  },
  {
   "cell_type": "code",
   "execution_count": 5,
   "metadata": {
    "collapsed": false
   },
   "outputs": [
    {
     "data": {
      "text/plain": [
       "<matplotlib.axes._subplots.AxesSubplot at 0x7f5b7857d310>"
      ]
     },
     "execution_count": 5,
     "metadata": {},
     "output_type": "execute_result"
    },
    {
     "data": {
      "image/png": "[encoded data removed]",
      "text/plain": [
       "<matplotlib.figure.Figure at 0x7f5b78567d50>"
      ]
     },
     "metadata": {},
     "output_type": "display_data"
    }
   ],
   "source": [
    "df.contraceptive.hist()"
   ]
  },
  {
   "cell_type": "code",
   "execution_count": 6,
   "metadata": {
    "collapsed": false
   },
   "outputs": [
    {
     "data": {
      "text/plain": [
       "Age                int64\n",
       "Education          int64\n",
       "H_education        int64\n",
       "num_child          int64\n",
       "Religion           int64\n",
       "Employ             int64\n",
       "H_occupation       int64\n",
       "living_standard    int64\n",
       "Media_exposure     int64\n",
       "contraceptive      int64\n",
       "dtype: object"
      ]
     },
     "execution_count": 6,
     "metadata": {},
     "output_type": "execute_result"
    }
   ],
   "source": [
    "df.dtypes"
   ]
  },
  {
   "cell_type": "code",
   "execution_count": 12,
   "metadata": {
    "collapsed": true
   },
   "outputs": [],
   "source": [
    "def one_hot_encoding(idx):\n",
    "    y = np.zeros((len(idx),max(idx)+1))\n",
    "    y[np.arange(len(idx)), idx] = 1\n",
    "    return y"
   ]
  },
  {
   "cell_type": "code",
   "execution_count": 50,
   "metadata": {
    "collapsed": true
   },
   "outputs": [],
   "source": [
    "scaler = StandardScaler()\n",
    "df[['Age','num_child']] = scaler.fit_transform(df[['Age','num_child']]) "
   ]
  },
  {
   "cell_type": "code",
   "execution_count": 29,
   "metadata": {
    "collapsed": true
   },
   "outputs": [],
   "source": [
    "x = df[['Age','num_child','Employ','Media_exposure']].values\n",
    "y = one_hot_encoding(df.contraceptive.values-1)\n",
    "\n",
    "liv_cats = df.living_standard.max()\n",
    "edu_cats = df.Education.max()\n",
    "\n",
    "liv = df.living_standard.values - 1\n",
    "liv_one_hot = one_hot_encoding(liv)\n",
    "edu = df.Education.values - 1\n",
    "edu_one_hot = one_hot_encoding(edu)\n",
    "\n",
    "train_x, test_x, train_liv, \\\n",
    "test_liv, train_edu, test_edu, train_y, test_y = train_test_split(x,liv_one_hot,edu_one_hot,y,test_size=0.1, random_state=1)"
   ]
  },
  {
   "cell_type": "code",
   "execution_count": 34,
   "metadata": {
    "collapsed": false
   },
   "outputs": [],
   "source": [
    "train_x = np.hstack([train_x, train_edu, train_liv])\n",
    "test_x = np.hstack([test_x, test_edu, test_liv])"
   ]
  },
  {
   "cell_type": "code",
   "execution_count": 22,
   "metadata": {
    "collapsed": false
   },
   "outputs": [
    {
     "name": "stdout",
     "output_type": "stream",
     "text": [
      "Epoch 1/100\n",
      "0s - loss: 1.8914 - acc: 0.4045\n",
      "Epoch 2/100\n",
      "0s - loss: 1.0642 - acc: 0.4317\n",
      "Epoch 3/100\n",
      "0s - loss: 1.0623 - acc: 0.4294\n",
      "Epoch 4/100\n",
      "0s - loss: 1.0602 - acc: 0.4264\n",
      "Epoch 5/100\n",
      "0s - loss: 1.0582 - acc: 0.4287\n",
      "Epoch 6/100\n",
      "0s - loss: 1.0554 - acc: 0.4302\n",
      "Epoch 7/100\n",
      "0s - loss: 1.0555 - acc: 0.4340\n",
      "Epoch 8/100\n",
      "0s - loss: 1.0544 - acc: 0.4370\n",
      "Epoch 9/100\n",
      "0s - loss: 1.0542 - acc: 0.4219\n",
      "Epoch 10/100\n",
      "0s - loss: 1.0535 - acc: 0.4325\n",
      "Epoch 11/100\n",
      "0s - loss: 1.0497 - acc: 0.4272\n",
      "Epoch 12/100\n",
      "0s - loss: 1.0515 - acc: 0.4377\n",
      "Epoch 13/100\n",
      "0s - loss: 1.0497 - acc: 0.4325\n",
      "Epoch 14/100\n",
      "0s - loss: 1.0500 - acc: 0.4272\n",
      "Epoch 15/100\n",
      "0s - loss: 1.0488 - acc: 0.4309\n",
      "Epoch 16/100\n",
      "0s - loss: 1.0471 - acc: 0.4430\n",
      "Epoch 17/100\n",
      "0s - loss: 1.0452 - acc: 0.4294\n",
      "Epoch 18/100\n",
      "0s - loss: 1.0461 - acc: 0.4332\n",
      "Epoch 19/100\n",
      "0s - loss: 1.0456 - acc: 0.4370\n",
      "Epoch 20/100\n",
      "0s - loss: 1.0446 - acc: 0.4355\n",
      "Epoch 21/100\n",
      "0s - loss: 1.0437 - acc: 0.4392\n",
      "Epoch 22/100\n",
      "0s - loss: 1.0441 - acc: 0.4385\n",
      "Epoch 23/100\n",
      "0s - loss: 1.0434 - acc: 0.4325\n",
      "Epoch 24/100\n",
      "0s - loss: 1.0431 - acc: 0.4438\n",
      "Epoch 25/100\n",
      "0s - loss: 1.0422 - acc: 0.4453\n",
      "Epoch 26/100\n",
      "0s - loss: 1.0417 - acc: 0.4408\n",
      "Epoch 27/100\n",
      "0s - loss: 1.0423 - acc: 0.4400\n",
      "Epoch 28/100\n",
      "0s - loss: 1.0423 - acc: 0.4377\n",
      "Epoch 29/100\n",
      "0s - loss: 1.0416 - acc: 0.4460\n",
      "Epoch 30/100\n",
      "0s - loss: 1.0412 - acc: 0.4377\n",
      "Epoch 31/100\n",
      "0s - loss: 1.0402 - acc: 0.4408\n",
      "Epoch 32/100\n",
      "0s - loss: 1.0393 - acc: 0.4460\n",
      "Epoch 33/100\n",
      "0s - loss: 1.0407 - acc: 0.4483\n",
      "Epoch 34/100\n",
      "0s - loss: 1.0400 - acc: 0.4475\n",
      "Epoch 35/100\n",
      "0s - loss: 1.0398 - acc: 0.4438\n",
      "Epoch 36/100\n",
      "0s - loss: 1.0388 - acc: 0.4506\n",
      "Epoch 37/100\n",
      "0s - loss: 1.0388 - acc: 0.4423\n",
      "Epoch 38/100\n",
      "0s - loss: 1.0384 - acc: 0.4483\n",
      "Epoch 39/100\n",
      "0s - loss: 1.0377 - acc: 0.4506\n",
      "Epoch 40/100\n",
      "0s - loss: 1.0370 - acc: 0.4445\n",
      "Epoch 41/100\n",
      "0s - loss: 1.0384 - acc: 0.4558\n",
      "Epoch 42/100\n",
      "0s - loss: 1.0379 - acc: 0.4558\n",
      "Epoch 43/100\n",
      "0s - loss: 1.0373 - acc: 0.4543\n",
      "Epoch 44/100\n",
      "0s - loss: 1.0369 - acc: 0.4453\n",
      "Epoch 45/100\n",
      "0s - loss: 1.0366 - acc: 0.4468\n",
      "Epoch 46/100\n",
      "0s - loss: 1.0363 - acc: 0.4491\n",
      "Epoch 47/100\n",
      "0s - loss: 1.0363 - acc: 0.4468\n",
      "Epoch 48/100\n",
      "0s - loss: 1.0360 - acc: 0.4513\n",
      "Epoch 49/100\n",
      "0s - loss: 1.0355 - acc: 0.4491\n",
      "Epoch 50/100\n",
      "0s - loss: 1.0354 - acc: 0.4551\n",
      "Epoch 51/100\n",
      "0s - loss: 1.0353 - acc: 0.4574\n",
      "Epoch 52/100\n",
      "0s - loss: 1.0352 - acc: 0.4566\n",
      "Epoch 53/100\n",
      "0s - loss: 1.0353 - acc: 0.4491\n",
      "Epoch 54/100\n",
      "0s - loss: 1.0359 - acc: 0.4491\n",
      "Epoch 55/100\n",
      "0s - loss: 1.0349 - acc: 0.4483\n",
      "Epoch 56/100\n",
      "0s - loss: 1.0343 - acc: 0.4574\n",
      "Epoch 57/100\n",
      "0s - loss: 1.0338 - acc: 0.4566\n",
      "Epoch 58/100\n",
      "0s - loss: 1.0340 - acc: 0.4528\n",
      "Epoch 59/100\n",
      "0s - loss: 1.0336 - acc: 0.4589\n",
      "Epoch 60/100\n",
      "0s - loss: 1.0339 - acc: 0.4543\n",
      "Epoch 61/100\n",
      "0s - loss: 1.0335 - acc: 0.4528\n",
      "Epoch 62/100\n",
      "0s - loss: 1.0329 - acc: 0.4581\n",
      "Epoch 63/100\n",
      "0s - loss: 1.0334 - acc: 0.4513\n",
      "Epoch 64/100\n",
      "0s - loss: 1.0326 - acc: 0.4536\n",
      "Epoch 65/100\n",
      "0s - loss: 1.0340 - acc: 0.4589\n",
      "Epoch 66/100\n",
      "0s - loss: 1.0325 - acc: 0.4574\n",
      "Epoch 67/100\n",
      "0s - loss: 1.0323 - acc: 0.4574\n",
      "Epoch 68/100\n",
      "0s - loss: 1.0323 - acc: 0.4574\n",
      "Epoch 69/100\n",
      "0s - loss: 1.0320 - acc: 0.4589\n",
      "Epoch 70/100\n",
      "0s - loss: 1.0322 - acc: 0.4581\n",
      "Epoch 71/100\n",
      "0s - loss: 1.0319 - acc: 0.4528\n",
      "Epoch 72/100\n",
      "0s - loss: 1.0316 - acc: 0.4566\n",
      "Epoch 73/100\n",
      "0s - loss: 1.0320 - acc: 0.4589\n",
      "Epoch 74/100\n",
      "0s - loss: 1.0311 - acc: 0.4649\n",
      "Epoch 75/100\n",
      "0s - loss: 1.0312 - acc: 0.4664\n",
      "Epoch 76/100\n",
      "0s - loss: 1.0308 - acc: 0.4619\n",
      "Epoch 77/100\n",
      "0s - loss: 1.0312 - acc: 0.4551\n",
      "Epoch 78/100\n",
      "0s - loss: 1.0312 - acc: 0.4566\n",
      "Epoch 79/100\n",
      "0s - loss: 1.0309 - acc: 0.4596\n",
      "Epoch 80/100\n",
      "0s - loss: 1.0302 - acc: 0.4604\n",
      "Epoch 81/100\n",
      "0s - loss: 1.0303 - acc: 0.4558\n",
      "Epoch 82/100\n",
      "0s - loss: 1.0307 - acc: 0.4581\n",
      "Epoch 83/100\n",
      "0s - loss: 1.0296 - acc: 0.4596\n",
      "Epoch 84/100\n",
      "0s - loss: 1.0292 - acc: 0.4581\n",
      "Epoch 85/100\n",
      "0s - loss: 1.0304 - acc: 0.4619\n",
      "Epoch 86/100\n",
      "0s - loss: 1.0302 - acc: 0.4611\n",
      "Epoch 87/100\n",
      "0s - loss: 1.0302 - acc: 0.4551\n",
      "Epoch 88/100\n",
      "0s - loss: 1.0294 - acc: 0.4626\n",
      "Epoch 89/100\n",
      "0s - loss: 1.0300 - acc: 0.4574\n",
      "Epoch 90/100\n",
      "0s - loss: 1.0297 - acc: 0.4611\n",
      "Epoch 91/100\n",
      "0s - loss: 1.0302 - acc: 0.4566\n",
      "Epoch 92/100\n",
      "0s - loss: 1.0298 - acc: 0.4543\n",
      "Epoch 93/100\n",
      "0s - loss: 1.0295 - acc: 0.4604\n",
      "Epoch 94/100\n",
      "0s - loss: 1.0292 - acc: 0.4664\n",
      "Epoch 95/100\n",
      "0s - loss: 1.0291 - acc: 0.4642\n",
      "Epoch 96/100\n",
      "0s - loss: 1.0291 - acc: 0.4581\n",
      "Epoch 97/100\n",
      "0s - loss: 1.0290 - acc: 0.4536\n",
      "Epoch 98/100\n",
      "0s - loss: 1.0287 - acc: 0.4604\n",
      "Epoch 99/100\n",
      "0s - loss: 1.0287 - acc: 0.4566\n",
      "Epoch 100/100\n",
      "0s - loss: 1.0285 - acc: 0.4543\n"
     ]
    },
    {
     "data": {
      "text/plain": [
       "<keras.callbacks.History at 0x7f5b682bb110>"
      ]
     },
     "execution_count": 22,
     "metadata": {},
     "output_type": "execute_result"
    }
   ],
   "source": [
    "model = Sequential()\n",
    "model.add(Dense(input_dim=train_x.shape[1],output_dim=12))\n",
    "model.add(Activation('relu'))\n",
    "model.add(Dense(output_dim=3))\n",
    "model.add(Activation('softmax'))\n",
    "\n",
    "model.compile(optimizer='adagrad', loss='categorical_crossentropy', metrics=['accuracy'])\n",
    "model.fit(train_x, train_y, nb_epoch=100, verbose=2)"
   ]
  },
  {
   "cell_type": "code",
   "execution_count": 23,
   "metadata": {
    "collapsed": false
   },
   "outputs": [
    {
     "name": "stdout",
     "output_type": "stream",
     "text": [
      "148/148 [==============================] - 0s\n"
     ]
    },
    {
     "data": {
      "text/plain": [
       "[1.00490403175354, 0.5]"
      ]
     },
     "execution_count": 23,
     "metadata": {},
     "output_type": "execute_result"
    }
   ],
   "source": [
    "model.evaluate(test_x, test_y, batch_size=256)"
   ]
  },
  {
   "cell_type": "code",
   "execution_count": 24,
   "metadata": {
    "collapsed": false
   },
   "outputs": [
    {
     "data": {
      "text/plain": [
       "array([[ 0.45012993,  0.22573498,  0.32413509],\n",
       "       [ 0.61278081,  0.1857394 ,  0.20147982],\n",
       "       [ 0.28402528,  0.27948779,  0.43648693],\n",
       "       [ 0.26227722,  0.31508371,  0.42263907],\n",
       "       [ 0.59369004,  0.19170636,  0.21460359],\n",
       "       [ 0.40284708,  0.26274753,  0.33440539],\n",
       "       [ 0.31861827,  0.27626175,  0.40511999],\n",
       "       [ 0.58384669,  0.18544869,  0.23070464],\n",
       "       [ 0.46458372,  0.20612505,  0.32929125],\n",
       "       [ 0.5014475 ,  0.22525845,  0.27329403]], dtype=float32)"
      ]
     },
     "execution_count": 24,
     "metadata": {},
     "output_type": "execute_result"
    }
   ],
   "source": [
    "model.predict(test_x[:10])"
   ]
  },
  {
   "cell_type": "code",
   "execution_count": 25,
   "metadata": {
    "collapsed": false
   },
   "outputs": [
    {
     "data": {
      "text/plain": [
       "array([[ 1.,  0.,  0.],\n",
       "       [ 1.,  0.,  0.],\n",
       "       [ 0.,  0.,  1.],\n",
       "       [ 1.,  0.,  0.],\n",
       "       [ 1.,  0.,  0.],\n",
       "       [ 0.,  0.,  1.],\n",
       "       [ 0.,  1.,  0.],\n",
       "       [ 1.,  0.,  0.],\n",
       "       [ 1.,  0.,  0.],\n",
       "       [ 0.,  0.,  1.]])"
      ]
     },
     "execution_count": 25,
     "metadata": {},
     "output_type": "execute_result"
    }
   ],
   "source": [
    "test_y[:10]"
   ]
  },
  {
   "cell_type": "code",
   "execution_count": 37,
   "metadata": {
    "collapsed": false
   },
   "outputs": [
    {
     "data": {
      "text/plain": [
       "array([2, 3, 3, ..., 3, 1, 3])"
      ]
     },
     "execution_count": 37,
     "metadata": {},
     "output_type": "execute_result"
    }
   ],
   "source": [
    "liv"
   ]
  },
  {
   "cell_type": "code",
   "execution_count": 53,
   "metadata": {
    "collapsed": true
   },
   "outputs": [],
   "source": [
    "train_x, test_x, train_liv, \\\n",
    "test_liv, train_edu, test_edu, train_y, test_y = train_test_split(x,liv,edu,y,test_size=0.1, random_state=1)"
   ]
  },
  {
   "cell_type": "code",
   "execution_count": 54,
   "metadata": {
    "collapsed": false
   },
   "outputs": [],
   "source": [
    "# Input layer for religion\n",
    "encoder_liv = Sequential()\n",
    "encoder_liv.add(Embedding(liv_cats,3,input_length=1))\n",
    "encoder_liv.add(Flatten())\n",
    "\n",
    "# Input layer for religion\n",
    "encoder_edu = Sequential()\n",
    "encoder_edu.add(Embedding(edu_cats,3,input_length=1))\n",
    "encoder_edu.add(Flatten())\n",
    "\n",
    "# Input layer for triggers(x_b)\n",
    "dense_x = Sequential()\n",
    "dense_x.add(Dense(4, input_dim=x.shape[1]))\n",
    "\n",
    "model = Sequential()\n",
    "model.add(Merge([encoder_liv, encoder_edu, dense_x], mode='concat'))\n",
    "model.add(Activation('relu'))\n",
    "# model.add(Dense(output_dim=4))\n",
    "# model.add(Activation('relu'))\n",
    "model.add(Dense(output_dim=3))\n",
    "model.add(Activation('softmax'))\n",
    "\n",
    "model.compile(optimizer='adagrad', loss='categorical_crossentropy', metrics=['accuracy'])"
   ]
  },
  {
   "cell_type": "code",
   "execution_count": 55,
   "metadata": {
    "collapsed": false
   },
   "outputs": [
    {
     "name": "stdout",
     "output_type": "stream",
     "text": [
      "Epoch 1/100\n",
      "0s - loss: 1.1786 - acc: 0.3879\n",
      "Epoch 2/100\n",
      "0s - loss: 1.1119 - acc: 0.3434\n",
      "Epoch 3/100\n",
      "0s - loss: 1.1045 - acc: 0.3472\n",
      "Epoch 4/100\n",
      "0s - loss: 1.1000 - acc: 0.3457\n",
      "Epoch 5/100\n",
      "0s - loss: 1.0963 - acc: 0.3721\n",
      "Epoch 6/100\n",
      "0s - loss: 1.0928 - acc: 0.3781\n",
      "Epoch 7/100\n",
      "0s - loss: 1.0900 - acc: 0.3781\n",
      "Epoch 8/100\n",
      "0s - loss: 1.0874 - acc: 0.3834\n",
      "Epoch 9/100\n",
      "0s - loss: 1.0850 - acc: 0.3932\n",
      "Epoch 10/100\n",
      "0s - loss: 1.0830 - acc: 0.4143\n",
      "Epoch 11/100\n",
      "0s - loss: 1.0808 - acc: 0.4196\n",
      "Epoch 12/100\n",
      "0s - loss: 1.0787 - acc: 0.4211\n",
      "Epoch 13/100\n",
      "0s - loss: 1.0769 - acc: 0.4226\n",
      "Epoch 14/100\n",
      "0s - loss: 1.0752 - acc: 0.4211\n",
      "Epoch 15/100\n",
      "0s - loss: 1.0739 - acc: 0.4219\n",
      "Epoch 16/100\n",
      "0s - loss: 1.0726 - acc: 0.4204\n",
      "Epoch 17/100\n",
      "0s - loss: 1.0714 - acc: 0.4196\n",
      "Epoch 18/100\n",
      "0s - loss: 1.0703 - acc: 0.4219\n",
      "Epoch 19/100\n",
      "0s - loss: 1.0692 - acc: 0.4234\n",
      "Epoch 20/100\n",
      "0s - loss: 1.0682 - acc: 0.4234\n",
      "Epoch 21/100\n",
      "0s - loss: 1.0672 - acc: 0.4249\n",
      "Epoch 22/100\n",
      "0s - loss: 1.0663 - acc: 0.4257\n",
      "Epoch 23/100\n",
      "0s - loss: 1.0653 - acc: 0.4264\n",
      "Epoch 24/100\n",
      "0s - loss: 1.0645 - acc: 0.4272\n",
      "Epoch 25/100\n",
      "0s - loss: 1.0637 - acc: 0.4272\n",
      "Epoch 26/100\n",
      "0s - loss: 1.0629 - acc: 0.4272\n",
      "Epoch 27/100\n",
      "0s - loss: 1.0622 - acc: 0.4272\n",
      "Epoch 28/100\n",
      "0s - loss: 1.0614 - acc: 0.4279\n",
      "Epoch 29/100\n",
      "0s - loss: 1.0605 - acc: 0.4272\n",
      "Epoch 30/100\n",
      "0s - loss: 1.0596 - acc: 0.4287\n",
      "Epoch 31/100\n",
      "0s - loss: 1.0589 - acc: 0.4279\n",
      "Epoch 32/100\n",
      "0s - loss: 1.0581 - acc: 0.4279\n",
      "Epoch 33/100\n",
      "0s - loss: 1.0574 - acc: 0.4279\n",
      "Epoch 34/100\n",
      "0s - loss: 1.0568 - acc: 0.4279\n",
      "Epoch 35/100\n",
      "0s - loss: 1.0561 - acc: 0.4279\n",
      "Epoch 36/100\n",
      "0s - loss: 1.0555 - acc: 0.4279\n",
      "Epoch 37/100\n",
      "0s - loss: 1.0550 - acc: 0.4279\n",
      "Epoch 38/100\n",
      "0s - loss: 1.0545 - acc: 0.4287\n",
      "Epoch 39/100\n",
      "0s - loss: 1.0539 - acc: 0.4279\n",
      "Epoch 40/100\n",
      "0s - loss: 1.0534 - acc: 0.4287\n",
      "Epoch 41/100\n",
      "0s - loss: 1.0529 - acc: 0.4287\n",
      "Epoch 42/100\n",
      "0s - loss: 1.0525 - acc: 0.4287\n",
      "Epoch 43/100\n",
      "0s - loss: 1.0520 - acc: 0.4287\n",
      "Epoch 44/100\n",
      "0s - loss: 1.0516 - acc: 0.4287\n",
      "Epoch 45/100\n",
      "0s - loss: 1.0512 - acc: 0.4287\n",
      "Epoch 46/100\n",
      "0s - loss: 1.0507 - acc: 0.4287\n",
      "Epoch 47/100\n",
      "0s - loss: 1.0503 - acc: 0.4287\n",
      "Epoch 48/100\n",
      "0s - loss: 1.0499 - acc: 0.4287\n",
      "Epoch 49/100\n",
      "0s - loss: 1.0496 - acc: 0.4294\n",
      "Epoch 50/100\n",
      "0s - loss: 1.0492 - acc: 0.4287\n",
      "Epoch 51/100\n",
      "0s - loss: 1.0488 - acc: 0.4294\n",
      "Epoch 52/100\n",
      "0s - loss: 1.0485 - acc: 0.4294\n",
      "Epoch 53/100\n",
      "0s - loss: 1.0481 - acc: 0.4294\n",
      "Epoch 54/100\n",
      "0s - loss: 1.0477 - acc: 0.4294\n",
      "Epoch 55/100\n",
      "0s - loss: 1.0474 - acc: 0.4294\n",
      "Epoch 56/100\n",
      "0s - loss: 1.0471 - acc: 0.4287\n",
      "Epoch 57/100\n",
      "0s - loss: 1.0468 - acc: 0.4294\n",
      "Epoch 58/100\n",
      "0s - loss: 1.0465 - acc: 0.4294\n",
      "Epoch 59/100\n",
      "0s - loss: 1.0461 - acc: 0.4287\n",
      "Epoch 60/100\n",
      "0s - loss: 1.0458 - acc: 0.4294\n",
      "Epoch 61/100\n",
      "0s - loss: 1.0456 - acc: 0.4287\n",
      "Epoch 62/100\n",
      "0s - loss: 1.0453 - acc: 0.4287\n",
      "Epoch 63/100\n",
      "0s - loss: 1.0450 - acc: 0.4287\n",
      "Epoch 64/100\n",
      "0s - loss: 1.0447 - acc: 0.4287\n",
      "Epoch 65/100\n",
      "0s - loss: 1.0445 - acc: 0.4287\n",
      "Epoch 66/100\n",
      "0s - loss: 1.0442 - acc: 0.4287\n",
      "Epoch 67/100\n",
      "0s - loss: 1.0440 - acc: 0.4287\n",
      "Epoch 68/100\n",
      "0s - loss: 1.0437 - acc: 0.4287\n",
      "Epoch 69/100\n",
      "0s - loss: 1.0435 - acc: 0.4287\n",
      "Epoch 70/100\n",
      "0s - loss: 1.0432 - acc: 0.4287\n",
      "Epoch 71/100\n",
      "0s - loss: 1.0430 - acc: 0.4287\n",
      "Epoch 72/100\n",
      "0s - loss: 1.0428 - acc: 0.4325\n",
      "Epoch 73/100\n",
      "0s - loss: 1.0425 - acc: 0.4460\n",
      "Epoch 74/100\n",
      "0s - loss: 1.0423 - acc: 0.4536\n",
      "Epoch 75/100\n",
      "0s - loss: 1.0421 - acc: 0.4536\n",
      "Epoch 76/100\n",
      "0s - loss: 1.0419 - acc: 0.4536\n",
      "Epoch 77/100\n",
      "0s - loss: 1.0417 - acc: 0.4536\n",
      "Epoch 78/100\n",
      "0s - loss: 1.0415 - acc: 0.4536\n",
      "Epoch 79/100\n",
      "0s - loss: 1.0413 - acc: 0.4566\n",
      "Epoch 80/100\n",
      "0s - loss: 1.0412 - acc: 0.4574\n",
      "Epoch 81/100\n",
      "0s - loss: 1.0410 - acc: 0.4581\n",
      "Epoch 82/100\n",
      "0s - loss: 1.0408 - acc: 0.4581\n",
      "Epoch 83/100\n",
      "0s - loss: 1.0406 - acc: 0.4581\n",
      "Epoch 84/100\n",
      "0s - loss: 1.0405 - acc: 0.4581\n",
      "Epoch 85/100\n",
      "0s - loss: 1.0403 - acc: 0.4581\n",
      "Epoch 86/100\n",
      "0s - loss: 1.0401 - acc: 0.4581\n",
      "Epoch 87/100\n",
      "0s - loss: 1.0400 - acc: 0.4581\n",
      "Epoch 88/100\n",
      "0s - loss: 1.0398 - acc: 0.4581\n",
      "Epoch 89/100\n",
      "0s - loss: 1.0397 - acc: 0.4581\n",
      "Epoch 90/100\n",
      "0s - loss: 1.0395 - acc: 0.4589\n",
      "Epoch 91/100\n",
      "0s - loss: 1.0394 - acc: 0.4581\n",
      "Epoch 92/100\n",
      "0s - loss: 1.0392 - acc: 0.4589\n",
      "Epoch 93/100\n",
      "0s - loss: 1.0391 - acc: 0.4589\n",
      "Epoch 94/100\n",
      "0s - loss: 1.0390 - acc: 0.4589\n",
      "Epoch 95/100\n",
      "0s - loss: 1.0388 - acc: 0.4589\n",
      "Epoch 96/100\n",
      "0s - loss: 1.0387 - acc: 0.4589\n",
      "Epoch 97/100\n",
      "0s - loss: 1.0386 - acc: 0.4581\n",
      "Epoch 98/100\n",
      "0s - loss: 1.0385 - acc: 0.4581\n",
      "Epoch 99/100\n",
      "0s - loss: 1.0383 - acc: 0.4581\n",
      "Epoch 100/100\n",
      "0s - loss: 1.0382 - acc: 0.4589\n"
     ]
    },
    {
     "data": {
      "text/plain": [
       "<keras.callbacks.History at 0x7f5b65b01c10>"
      ]
     },
     "execution_count": 55,
     "metadata": {},
     "output_type": "execute_result"
    }
   ],
   "source": [
    "model.fit([train_liv[:,None], train_edu[:,None], train_x], train_y, nb_epoch=100, verbose=2)"
   ]
  },
  {
   "cell_type": "code",
   "execution_count": 45,
   "metadata": {
    "collapsed": false
   },
   "outputs": [
    {
     "data": {
      "text/plain": [
       "(148, 1)"
      ]
     },
     "execution_count": 45,
     "metadata": {},
     "output_type": "execute_result"
    }
   ],
   "source": [
    "test_liv[:,None].shape"
   ]
  },
  {
   "cell_type": "code",
   "execution_count": 48,
   "metadata": {
    "collapsed": false
   },
   "outputs": [
    {
     "name": "stdout",
     "output_type": "stream",
     "text": [
      "148/148 [==============================] - 0s\n"
     ]
    },
    {
     "data": {
      "text/plain": [
       "[0.98484480381011963, 0.48648649454116821]"
      ]
     },
     "execution_count": 48,
     "metadata": {},
     "output_type": "execute_result"
    }
   ],
   "source": [
    "model.evaluate([test_liv[:,None], test_edu[:,None], test_x],test_y, batch_size=256)"
   ]
  },
  {
   "cell_type": "code",
   "execution_count": 43,
   "metadata": {
    "collapsed": false
   },
   "outputs": [
    {
     "data": {
      "text/plain": [
       "array([[ 0.49308839,  0.17379916,  0.33311245],\n",
       "       [ 0.40720317,  0.25556412,  0.33723271],\n",
       "       [ 0.49308839,  0.17379916,  0.33311245],\n",
       "       [ 0.40720317,  0.25556412,  0.33723271],\n",
       "       [ 0.36428297,  0.2926755 ,  0.34304154]], dtype=float32)"
      ]
     },
     "execution_count": 43,
     "metadata": {},
     "output_type": "execute_result"
    }
   ],
   "source": [
    "p = model.predict([test_liv[:,None], test_edu[:,None], test_x], batch_size=256)\n",
    "p[:5]"
   ]
  },
  {
   "cell_type": "code",
   "execution_count": 54,
   "metadata": {
    "collapsed": false
   },
   "outputs": [
    {
     "name": "stdout",
     "output_type": "stream",
     "text": [
      "____________________________________________________________________________________________________\n",
      "Layer (type)                     Output Shape          Param #     Connected to                     \n",
      "====================================================================================================\n",
      "embedding_10 (Embedding)         (None, 1, 4)          16                                           \n",
      "____________________________________________________________________________________________________\n",
      "flatten_10 (Flatten)             (None, 4)             0                                            \n",
      "____________________________________________________________________________________________________\n",
      "embedding_11 (Embedding)         (None, 1, 4)          16                                           \n",
      "____________________________________________________________________________________________________\n",
      "flatten_11 (Flatten)             (None, 4)             0                                            \n",
      "____________________________________________________________________________________________________\n",
      "dense_7 (Dense)                  (None, 4)             20                                           \n",
      "____________________________________________________________________________________________________\n",
      "activation_5 (Activation)        (None, 4)             0           merge_5[0][0]                    \n",
      "____________________________________________________________________________________________________\n",
      "dense_8 (Dense)                  (None, 1)             5           activation_5[0][0]               \n",
      "____________________________________________________________________________________________________\n",
      "activation_6 (Activation)        (None, 1)             0           dense_8[0][0]                    \n",
      "====================================================================================================\n",
      "Total params: 57\n",
      "____________________________________________________________________________________________________\n"
     ]
    }
   ],
   "source": [
    "model.summary()"
   ]
  },
  {
   "cell_type": "code",
   "execution_count": 64,
   "metadata": {
    "collapsed": false
   },
   "outputs": [
    {
     "name": "stdout",
     "output_type": "stream",
     "text": [
      "Epoch 1/100\n",
      "1325/1325 [==============================] - 0s - loss: 0.6720 - acc: 0.2453     \n",
      "Epoch 2/100\n",
      "1325/1325 [==============================] - 0s - loss: -0.7079 - acc: 0.4264     \n",
      "Epoch 3/100\n",
      "1325/1325 [==============================] - 0s - loss: -1.7836 - acc: 0.4264     \n",
      "Epoch 4/100\n",
      "1325/1325 [==============================] - 0s - loss: -2.7790 - acc: 0.4264     \n",
      "Epoch 5/100\n",
      "1325/1325 [==============================] - 0s - loss: -3.7540 - acc: 0.4264     \n",
      "Epoch 6/100\n",
      "1325/1325 [==============================] - 0s - loss: -4.7403 - acc: 0.4264     \n",
      "Epoch 7/100\n",
      "1325/1325 [==============================] - 0s - loss: -5.7370 - acc: 0.4264     \n",
      "Epoch 8/100\n",
      "1325/1325 [==============================] - 0s - loss: -6.7459 - acc: 0.4264     \n",
      "Epoch 9/100\n",
      "1325/1325 [==============================] - 0s - loss: -7.7802 - acc: 0.4264     \n",
      "Epoch 10/100\n",
      "1325/1325 [==============================] - 0s - loss: -8.8112 - acc: 0.4264     \n",
      "Epoch 11/100\n",
      "1325/1325 [==============================] - 0s - loss: -9.8074 - acc: 0.4264     \n",
      "Epoch 12/100\n",
      "1325/1325 [==============================] - 0s - loss: -10.6871 - acc: 0.4264     \n",
      "Epoch 13/100\n",
      "1325/1325 [==============================] - 0s - loss: -11.3959 - acc: 0.4264     \n",
      "Epoch 14/100\n",
      "1325/1325 [==============================] - 0s - loss: -11.9747 - acc: 0.4264     \n",
      "Epoch 15/100\n",
      "1325/1325 [==============================] - 0s - loss: -12.3898 - acc: 0.4264     \n",
      "Epoch 16/100\n",
      "1325/1325 [==============================] - 0s - loss: -12.7159 - acc: 0.4264     \n",
      "Epoch 17/100\n",
      "1325/1325 [==============================] - 0s - loss: -12.9847 - acc: 0.4264     \n",
      "Epoch 18/100\n",
      "1325/1325 [==============================] - 0s - loss: -13.2036 - acc: 0.4264     \n",
      "Epoch 19/100\n",
      "1325/1325 [==============================] - 0s - loss: -13.3738 - acc: 0.4264     \n",
      "Epoch 20/100\n",
      "1325/1325 [==============================] - 0s - loss: -13.5190 - acc: 0.4264     \n",
      "Epoch 21/100\n",
      "1325/1325 [==============================] - 0s - loss: -13.6323 - acc: 0.4264     \n",
      "Epoch 22/100\n",
      "1325/1325 [==============================] - 0s - loss: -13.7373 - acc: 0.4264     \n",
      "Epoch 23/100\n",
      "1325/1325 [==============================] - 0s - loss: -13.8341 - acc: 0.4264     \n",
      "Epoch 24/100\n",
      "1325/1325 [==============================] - 0s - loss: -13.9037 - acc: 0.4264     \n",
      "Epoch 25/100\n",
      "1325/1325 [==============================] - 0s - loss: -13.9804 - acc: 0.4264     \n",
      "Epoch 26/100\n",
      "1325/1325 [==============================] - 0s - loss: -14.0287 - acc: 0.4264     \n",
      "Epoch 27/100\n",
      "1325/1325 [==============================] - 0s - loss: -14.0927 - acc: 0.4264     \n",
      "Epoch 28/100\n",
      "1325/1325 [==============================] - 0s - loss: -14.1375 - acc: 0.4264     \n",
      "Epoch 29/100\n",
      "1325/1325 [==============================] - 0s - loss: -14.1654 - acc: 0.4264     \n",
      "Epoch 30/100\n",
      "1325/1325 [==============================] - 0s - loss: -14.2105 - acc: 0.4264     \n",
      "Epoch 31/100\n",
      "1325/1325 [==============================] - 0s - loss: -14.2369 - acc: 0.4264     \n",
      "Epoch 32/100\n",
      "1325/1325 [==============================] - 0s - loss: -14.2577 - acc: 0.4264     \n",
      "Epoch 33/100\n",
      "1325/1325 [==============================] - 0s - loss: -14.2804 - acc: 0.4264     \n",
      "Epoch 34/100\n",
      "1325/1325 [==============================] - 0s - loss: -14.3109 - acc: 0.4264     \n",
      "Epoch 35/100\n",
      "1325/1325 [==============================] - 0s - loss: -14.3264 - acc: 0.4264     \n",
      "Epoch 36/100\n",
      "1325/1325 [==============================] - 0s - loss: -14.3419 - acc: 0.4264     \n",
      "Epoch 37/100\n",
      "1325/1325 [==============================] - 0s - loss: -14.3557 - acc: 0.4264     \n",
      "Epoch 38/100\n",
      "1325/1325 [==============================] - 0s - loss: -14.3743 - acc: 0.4264     \n",
      "Epoch 39/100\n",
      "1325/1325 [==============================] - 0s - loss: -14.4033 - acc: 0.4264     \n",
      "Epoch 40/100\n",
      "1325/1325 [==============================] - 0s - loss: -14.4149 - acc: 0.4264     \n",
      "Epoch 41/100\n",
      "1325/1325 [==============================] - 0s - loss: -14.4279 - acc: 0.4264     \n",
      "Epoch 42/100\n",
      "1325/1325 [==============================] - 0s - loss: -14.4374 - acc: 0.4264     \n",
      "Epoch 43/100\n",
      "1325/1325 [==============================] - 0s - loss: -14.4451 - acc: 0.4264     \n",
      "Epoch 44/100\n",
      "1325/1325 [==============================] - 0s - loss: -14.4495 - acc: 0.4264     \n",
      "Epoch 45/100\n",
      "1325/1325 [==============================] - 0s - loss: -14.4569 - acc: 0.4264     \n",
      "Epoch 46/100\n",
      "1325/1325 [==============================] - 0s - loss: -14.4750 - acc: 0.4264     \n",
      "Epoch 47/100\n",
      "1325/1325 [==============================] - 0s - loss: -14.4851 - acc: 0.4264     \n",
      "Epoch 48/100\n",
      "1325/1325 [==============================] - 0s - loss: -14.4894 - acc: 0.4264     \n",
      "Epoch 49/100\n",
      "1325/1325 [==============================] - 0s - loss: -14.4937 - acc: 0.4264     \n",
      "Epoch 50/100\n",
      "1325/1325 [==============================] - 0s - loss: -14.5023 - acc: 0.4264     \n",
      "Epoch 51/100\n",
      "1325/1325 [==============================] - 0s - loss: -14.5043 - acc: 0.4264     \n",
      "Epoch 52/100\n",
      "1325/1325 [==============================] - 0s - loss: -14.5065 - acc: 0.4264     \n",
      "Epoch 53/100\n",
      "1325/1325 [==============================] - 0s - loss: -14.5098 - acc: 0.4264     \n",
      "Epoch 54/100\n",
      "1325/1325 [==============================] - 0s - loss: -14.5131 - acc: 0.4264     \n",
      "Epoch 55/100\n",
      "1325/1325 [==============================] - 0s - loss: -14.5146 - acc: 0.4264     \n",
      "Epoch 56/100\n",
      "1325/1325 [==============================] - 0s - loss: -14.5166 - acc: 0.4264     \n",
      "Epoch 57/100\n",
      "1325/1325 [==============================] - 0s - loss: -14.5209 - acc: 0.4264     \n",
      "Epoch 58/100\n",
      "1325/1325 [==============================] - 0s - loss: -14.5372 - acc: 0.4264     \n",
      "Epoch 59/100\n",
      "1325/1325 [==============================] - 0s - loss: -14.5405 - acc: 0.4264     \n",
      "Epoch 60/100\n",
      "1325/1325 [==============================] - 0s - loss: -14.5456 - acc: 0.4264     \n",
      "Epoch 61/100\n",
      "1325/1325 [==============================] - 0s - loss: -14.5461 - acc: 0.4264     \n",
      "Epoch 62/100\n",
      "1325/1325 [==============================] - 0s - loss: -14.5479 - acc: 0.4264     \n",
      "Epoch 63/100\n",
      "1325/1325 [==============================] - 0s - loss: -14.5489 - acc: 0.4264     \n",
      "Epoch 64/100\n",
      "1325/1325 [==============================] - 0s - loss: -14.5499 - acc: 0.4264     \n",
      "Epoch 65/100\n",
      "1325/1325 [==============================] - 0s - loss: -14.5527 - acc: 0.4264     \n",
      "Epoch 66/100\n",
      "1325/1325 [==============================] - 0s - loss: -14.5552 - acc: 0.4264     \n",
      "Epoch 67/100\n",
      "1325/1325 [==============================] - 0s - loss: -14.5565 - acc: 0.4264     \n",
      "Epoch 68/100\n",
      "1325/1325 [==============================] - 0s - loss: -14.5570 - acc: 0.4264     \n",
      "Epoch 69/100\n",
      "1325/1325 [==============================] - 0s - loss: -14.5576 - acc: 0.4264     \n",
      "Epoch 70/100\n",
      "1325/1325 [==============================] - 0s - loss: -14.5584 - acc: 0.4264     \n",
      "Epoch 71/100\n",
      "1325/1325 [==============================] - 0s - loss: -14.5593 - acc: 0.4264     \n",
      "Epoch 72/100\n",
      "1325/1325 [==============================] - 0s - loss: -14.5604 - acc: 0.4264     \n",
      "Epoch 73/100\n",
      "1325/1325 [==============================] - 0s - loss: -14.5610 - acc: 0.4264     \n",
      "Epoch 74/100\n",
      "1325/1325 [==============================] - 0s - loss: -14.5623 - acc: 0.4264     \n",
      "Epoch 75/100\n",
      "1325/1325 [==============================] - 0s - loss: -14.5626 - acc: 0.4264     \n",
      "Epoch 76/100\n",
      "1325/1325 [==============================] - 0s - loss: -14.5632 - acc: 0.4264     \n",
      "Epoch 77/100\n",
      "1325/1325 [==============================] - 0s - loss: -14.5636 - acc: 0.4264     \n",
      "Epoch 78/100\n",
      "1325/1325 [==============================] - 0s - loss: -14.5647 - acc: 0.4264     \n",
      "Epoch 79/100\n",
      "1325/1325 [==============================] - 0s - loss: -14.5676 - acc: 0.4264     \n",
      "Epoch 80/100\n",
      "1325/1325 [==============================] - 0s - loss: -14.5686 - acc: 0.4264     \n",
      "Epoch 81/100\n",
      "1325/1325 [==============================] - 0s - loss: -14.5744 - acc: 0.4264     \n",
      "Epoch 82/100\n",
      "1325/1325 [==============================] - 0s - loss: -14.5766 - acc: 0.4264     \n",
      "Epoch 83/100\n",
      "1325/1325 [==============================] - 0s - loss: -14.5771 - acc: 0.4264     \n",
      "Epoch 84/100\n",
      "1325/1325 [==============================] - 0s - loss: -14.5787 - acc: 0.4264     \n",
      "Epoch 85/100\n",
      "1325/1325 [==============================] - 0s - loss: -14.5788 - acc: 0.4264     \n",
      "Epoch 86/100\n",
      "1325/1325 [==============================] - 0s - loss: -14.5790 - acc: 0.4264     \n",
      "Epoch 87/100\n",
      "1325/1325 [==============================] - 0s - loss: -14.5793 - acc: 0.4264     \n",
      "Epoch 88/100\n",
      "1325/1325 [==============================] - 0s - loss: -14.5797 - acc: 0.4264     \n",
      "Epoch 89/100\n",
      "1325/1325 [==============================] - 0s - loss: -14.5806 - acc: 0.4264     \n",
      "Epoch 90/100\n",
      "1325/1325 [==============================] - 0s - loss: -14.5814 - acc: 0.4264     \n",
      "Epoch 91/100\n",
      "1325/1325 [==============================] - 0s - loss: -14.5816 - acc: 0.4264     \n",
      "Epoch 92/100\n",
      "1325/1325 [==============================] - 0s - loss: -14.5817 - acc: 0.4264     \n",
      "Epoch 93/100\n",
      "1325/1325 [==============================] - 0s - loss: -14.5834 - acc: 0.4264     \n",
      "Epoch 94/100\n",
      "1325/1325 [==============================] - 0s - loss: -14.5848 - acc: 0.4264     \n",
      "Epoch 95/100\n",
      "1325/1325 [==============================] - 0s - loss: -14.5852 - acc: 0.4264     \n",
      "Epoch 96/100\n",
      "1325/1325 [==============================] - 0s - loss: -14.5859 - acc: 0.4264     \n",
      "Epoch 97/100\n",
      "1325/1325 [==============================] - 0s - loss: -14.5866 - acc: 0.4264     \n",
      "Epoch 98/100\n",
      "1325/1325 [==============================] - 0s - loss: -14.5868 - acc: 0.4264     \n",
      "Epoch 99/100\n",
      "1325/1325 [==============================] - 0s - loss: -14.5870 - acc: 0.4264     \n",
      "Epoch 100/100\n",
      "1325/1325 [==============================] - 0s - loss: -14.5871 - acc: 0.4264     \n"
     ]
    },
    {
     "data": {
      "text/plain": [
       "<keras.callbacks.History at 0x11ee57320>"
      ]
     },
     "execution_count": 64,
     "metadata": {},
     "output_type": "execute_result"
    }
   ],
   "source": [
    "model = Sequential()\n",
    "model.add(Dense(4, input_dim=x.shape[1]))\n",
    "model.add(Activation('relu'))\n",
    "model.add(Dense(output_dim=1))\n",
    "model.add(Activation('sigmoid'))\n",
    "\n",
    "model.compile(optimizer='adagrad', loss='binary_crossentropy', metrics=['accuracy'])\n",
    "model.fit(train_x, train_y, nb_epoch=100)"
   ]
  },
  {
   "cell_type": "code",
   "execution_count": 95,
   "metadata": {
    "collapsed": true
   },
   "outputs": [],
   "source": [
    "model.fit?"
   ]
  },
  {
   "cell_type": "code",
   "execution_count": null,
   "metadata": {
    "collapsed": true
   },
   "outputs": [],
   "source": []
  }
 ],
 "metadata": {
  "anaconda-cloud": {},
  "kernelspec": {
   "display_name": "Python [default]",
   "language": "python",
   "name": "python3"
  },
  "language_info": {
   "codemirror_mode": {
    "name": "ipython",
    "version": 3
   },
   "file_extension": ".py",
   "mimetype": "text/x-python",
   "name": "python",
   "nbconvert_exporter": "python",
   "pygments_lexer": "ipython3",
   "version": "3.5.2"
  },
  "latex_envs": {
   "bibliofile": "biblio.bib",
   "cite_by": "apalike",
   "current_citInitial": 1,
   "eqLabelWithNumbers": true,
   "eqNumInitial": 0
  }
 },
 "nbformat": 4,
 "nbformat_minor": 1
}
