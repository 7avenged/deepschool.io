{
 "cells": [
  {
   "cell_type": "markdown",
   "metadata": {},
   "source": [
    "# LSTM (Long Short Term Memory)\n",
    "\n",
    "There is a branch of Deep Learning that is dedicated to processing time series. These deep Nets are **Recursive Neural Nets (RNNs)**. LSTMs are one of the few types of RNNs that are available. Gated Recurent Units (GRUs) are the other type of popular RNNs.\n",
    "\n",
    "This is an illustration from http://colah.github.io/posts/2015-08-Understanding-LSTMs/ (A highly recommended read)\n",
    "\n",
    "![RNNs](./RNN-unrolled.png)\n",
    "\n",
    "Pros:\n",
    "- Really powerful pattern recognition system for time series\n",
    "\n",
    "Cons:\n",
    "- Cannot deal with missing time steps.\n",
    "- Time steps must be discretised and not continuous.\n",
    "\n",
    "![trump](./images/trump.jpg)"
   ]
  },
  {
   "cell_type": "code",
   "execution_count": 1,
   "metadata": {},
   "outputs": [
    {
     "name": "stderr",
     "output_type": "stream",
     "text": [
      "Using TensorFlow backend.\n"
     ]
    }
   ],
   "source": [
    "%matplotlib inline\n",
    "import pandas as pd\n",
    "import numpy as np\n",
    "import matplotlib.pyplot as plt\n",
    "\n",
    "import re\n",
    "\n",
    "from keras.models import Sequential\n",
    "from keras.layers import Activation, Dropout, Flatten, Dense, BatchNormalization, LSTM, Embedding, TimeDistributed\n",
    "from keras.models import load_model, model_from_json"
   ]
  },
  {
   "cell_type": "code",
   "execution_count": 2,
   "metadata": {
    "collapsed": true
   },
   "outputs": [],
   "source": [
    "def chr2val(ch):\n",
    "    ch = ch.lower()\n",
    "    if ch.isalpha():\n",
    "        return 1 + (ord(ch) - ord('a'))\n",
    "    else:\n",
    "        return 0\n",
    "    \n",
    "def val2chr(v):\n",
    "    if v == 0:\n",
    "        return ' '\n",
    "    else:\n",
    "        return chr(ord('a') + v - 1)"
   ]
  },
  {
   "cell_type": "code",
   "execution_count": 3,
   "metadata": {},
   "outputs": [
    {
     "data": {
      "text/html": [
       "<div>\n",
       "<style>\n",
       "    .dataframe thead tr:only-child th {\n",
       "        text-align: right;\n",
       "    }\n",
       "\n",
       "    .dataframe thead th {\n",
       "        text-align: left;\n",
       "    }\n",
       "\n",
       "    .dataframe tbody tr th {\n",
       "        vertical-align: top;\n",
       "    }\n",
       "</style>\n",
       "<table border=\"1\" class=\"dataframe\">\n",
       "  <thead>\n",
       "    <tr style=\"text-align: right;\">\n",
       "      <th></th>\n",
       "      <th>source</th>\n",
       "      <th>text</th>\n",
       "      <th>created_at</th>\n",
       "      <th>favorite_count</th>\n",
       "      <th>is_retweet</th>\n",
       "      <th>id_str</th>\n",
       "    </tr>\n",
       "  </thead>\n",
       "  <tbody>\n",
       "    <tr>\n",
       "      <th>0</th>\n",
       "      <td>Twitter for iPhone</td>\n",
       "      <td>i think senator blumenthal should take a nice ...</td>\n",
       "      <td>08-07-2017 20:48:54</td>\n",
       "      <td>61446</td>\n",
       "      <td>false</td>\n",
       "      <td>8.946617e+17</td>\n",
       "    </tr>\n",
       "    <tr>\n",
       "      <th>1</th>\n",
       "      <td>Twitter for iPhone</td>\n",
       "      <td>how much longer will the failing nytimes with ...</td>\n",
       "      <td>08-07-2017 20:39:46</td>\n",
       "      <td>42235</td>\n",
       "      <td>false</td>\n",
       "      <td>8.946594e+17</td>\n",
       "    </tr>\n",
       "    <tr>\n",
       "      <th>2</th>\n",
       "      <td>Twitter for iPhone</td>\n",
       "      <td>the fake news media will not talk about the im...</td>\n",
       "      <td>08-07-2017 20:15:18</td>\n",
       "      <td>45050</td>\n",
       "      <td>false</td>\n",
       "      <td>8.946532e+17</td>\n",
       "    </tr>\n",
       "    <tr>\n",
       "      <th>4</th>\n",
       "      <td>Twitter for iPhone</td>\n",
       "      <td>on #purpleheartday i thank all the brave men a...</td>\n",
       "      <td>08-07-2017 18:03:42</td>\n",
       "      <td>48472</td>\n",
       "      <td>false</td>\n",
       "      <td>8.946201e+17</td>\n",
       "    </tr>\n",
       "    <tr>\n",
       "      <th>5</th>\n",
       "      <td>Twitter for iPhone</td>\n",
       "      <td>...conquests how brave he was and it was all a...</td>\n",
       "      <td>08-07-2017 12:01:20</td>\n",
       "      <td>59253</td>\n",
       "      <td>false</td>\n",
       "      <td>8.945289e+17</td>\n",
       "    </tr>\n",
       "  </tbody>\n",
       "</table>\n",
       "</div>"
      ],
      "text/plain": [
       "               source                                               text  \\\n",
       "0  Twitter for iPhone  i think senator blumenthal should take a nice ...   \n",
       "1  Twitter for iPhone  how much longer will the failing nytimes with ...   \n",
       "2  Twitter for iPhone  the fake news media will not talk about the im...   \n",
       "4  Twitter for iPhone  on #purpleheartday i thank all the brave men a...   \n",
       "5  Twitter for iPhone  ...conquests how brave he was and it was all a...   \n",
       "\n",
       "            created_at favorite_count is_retweet        id_str  \n",
       "0  08-07-2017 20:48:54          61446      false  8.946617e+17  \n",
       "1  08-07-2017 20:39:46          42235      false  8.946594e+17  \n",
       "2  08-07-2017 20:15:18          45050      false  8.946532e+17  \n",
       "4  08-07-2017 18:03:42          48472      false  8.946201e+17  \n",
       "5  08-07-2017 12:01:20          59253      false  8.945289e+17  "
      ]
     },
     "execution_count": 3,
     "metadata": {},
     "output_type": "execute_result"
    }
   ],
   "source": [
    "df = pd.read_csv('trump.csv')\n",
    "df = df[df.is_retweet=='false']\n",
    "df.text = df.text.str.lower()\n",
    "df.text = df.text.str.replace(r'http[\\w:/\\.]+','') # remove urls\n",
    "df.text = df.text.str.replace(r'[^!\\'\"#$%&\\()*+,-./:;<=>?@_’`{|}~\\w\\s]',' ') #remove everything but characters and punctuation\n",
    "df.text = df.text.str.replace(r'\\s\\s+',' ') #replace multple white space with a single one\n",
    "df = df[[len(t)<180 for t in df.text.values]]\n",
    "df = df[[len(t)>50 for t in df.text.values]]\n",
    "df.head()"
   ]
  },
  {
   "cell_type": "code",
   "execution_count": 4,
   "metadata": {},
   "outputs": [
    {
     "data": {
      "text/plain": [
       "(23902, 6)"
      ]
     },
     "execution_count": 4,
     "metadata": {},
     "output_type": "execute_result"
    }
   ],
   "source": [
    "df.shape"
   ]
  },
  {
   "cell_type": "code",
   "execution_count": 6,
   "metadata": {},
   "outputs": [
    {
     "data": {
      "text/plain": [
       "['be sure to tune in and watch donald trump on late night with david letterman as he presents the top ten list tonight!',\n",
       " 'donald trump will be appearing on the view tomorrow morning to discuss celebrity apprentice and his new book think like a champion!',\n",
       " 'donald trump reads top ten financial tips on late show with david letterman: - very funny!',\n",
       " 'new blog post: celebrity apprentice finale and lessons learned along the way: ',\n",
       " 'my persona will never be that of a wallflower - i’d rather build walls than cling to them --donald j. trump']"
      ]
     },
     "execution_count": 6,
     "metadata": {},
     "output_type": "execute_result"
    }
   ],
   "source": [
    "trump_tweets = [text for text in df.text.values[::-1]]\n",
    "trump_tweets[:5]"
   ]
  },
  {
   "cell_type": "markdown",
   "metadata": {},
   "source": [
    "Create a dictionary to convert letters to numbers and vice versa."
   ]
  },
  {
   "cell_type": "code",
   "execution_count": 7,
   "metadata": {
    "collapsed": true
   },
   "outputs": [],
   "source": [
    "all_tweets = ''.join(trump_tweets)\n",
    "char2int = dict(zip(set(all_tweets), range(len(set(all_tweets)))))\n",
    "char2int['<END>'] = len(char2int)\n",
    "char2int['<GO>'] = len(char2int)\n",
    "char2int['<PAD>'] = len(char2int)\n",
    "int2char = dict(zip(char2int.values(), char2int.keys()))"
   ]
  },
  {
   "cell_type": "code",
   "execution_count": 8,
   "metadata": {
    "collapsed": true
   },
   "outputs": [],
   "source": [
    "text_num = [[char2int['<GO>']]+[char2int[c] for c in tweet]+ [char2int['<END>']] for tweet in trump_tweets]"
   ]
  },
  {
   "cell_type": "code",
   "execution_count": 9,
   "metadata": {},
   "outputs": [
    {
     "data": {
      "image/png": "[encoded data removed]",
      "text/plain": [
       "<matplotlib.figure.Figure at 0x7f549e004f98>"
      ]
     },
     "metadata": {},
     "output_type": "display_data"
    }
   ],
   "source": [
    "plt.hist([len(t) for t in trump_tweets],50)\n",
    "plt.show()"
   ]
  },
  {
   "cell_type": "code",
   "execution_count": 10,
   "metadata": {
    "collapsed": true
   },
   "outputs": [],
   "source": [
    "len_vocab = len(char2int)\n",
    "sentence_len = 40\n",
    "\n",
    "num_examples = 0\n",
    "for tweet in text_num:\n",
    "    num_examples += len(tweet)-sentence_len\n",
    "\n",
    "x = np.zeros((num_examples, sentence_len))\n",
    "y = np.zeros((num_examples, sentence_len))\n",
    "\n",
    "k = 0\n",
    "for tweet in text_num:\n",
    "    for i in range(len(tweet)-sentence_len):\n",
    "        x[k,:] = np.array(tweet[i:i+sentence_len])\n",
    "        y[k,:] = np.array(tweet[i+1:i+sentence_len+1])\n",
    "        k += 1\n",
    "        \n",
    "y = y.reshape(y.shape+(1,))"
   ]
  },
  {
   "cell_type": "markdown",
   "metadata": {
    "collapsed": true
   },
   "source": [
    "## Many to Many LSTM"
   ]
  },
  {
   "cell_type": "code",
   "execution_count": 11,
   "metadata": {},
   "outputs": [
    {
     "name": "stdout",
     "output_type": "stream",
     "text": [
      "_________________________________________________________________\n",
      "Layer (type)                 Output Shape              Param #   \n",
      "=================================================================\n",
      "embedding_1 (Embedding)      (None, None, 64)          5440      \n",
      "_________________________________________________________________\n",
      "lstm_1 (LSTM)                (None, None, 64)          33024     \n",
      "_________________________________________________________________\n",
      "time_distributed_1 (TimeDist (None, None, 85)          5525      \n",
      "=================================================================\n",
      "Total params: 43,989\n",
      "Trainable params: 43,989\n",
      "Non-trainable params: 0\n",
      "_________________________________________________________________\n"
     ]
    }
   ],
   "source": [
    "model = Sequential()\n",
    "model.add(Embedding(len_vocab, 64)) # , batch_size=batch_size\n",
    "model.add(LSTM(64, return_sequences=True)) # , stateful=True\n",
    "model.add(TimeDistributed(Dense(len_vocab, activation='softmax')))\n",
    "\n",
    "model.compile(loss='sparse_categorical_crossentropy', optimizer='adam')\n",
    "model.summary()"
   ]
  },
  {
   "cell_type": "markdown",
   "metadata": {},
   "source": [
    "Pay special attention to how the probabilites are taken. p is of shape `(1, sequence_len, len(char2int))` where len(char2int) is the number of available characters. The 1 is there because we are only predicting one feature, `y`. We are only concerned about the last prediction probability of the sequence. This is due to the fact that all other letters have already been appended. Hence we predict a letter from the distribution `p[0][-1]`.\n",
    "\n",
    "Why did we keep appending to the sequence and predicting? Why not use simply the last letter. If we were to do this, we would lose information that comes from the previous letter via the hidden state and cell memory. Keep in mind that each LSTM unit has 3 inputs, the x, the hidden state, and the cell memory. \n",
    "\n",
    "Also important to notice that the Cell Memory is not used in connecting to the Dense layer, only the hidden state."
   ]
  },
  {
   "cell_type": "code",
   "execution_count": 12,
   "metadata": {},
   "outputs": [
    {
     "name": "stdout",
     "output_type": "stream",
     "text": [
      "<GO>2ğln’64oâéō=j$<END>ō3z9/btvr<GO>.-tá\n",
      "k,&aº=?v6ø7<END>;l22)vfễ1' \"ễ?&z{wğ5%k(q4b&(5(4 \n",
      "&m;+m/$-5{l5f_=&2 pñjñ*ễ\n",
      "====================================================================================================\n",
      "Epoch 1/1\n",
      "1693437/1693437 [==============================] - 143s - loss: 2.4061   \n",
      "<GO>peny backen @realdonseopbepe @llomamnshey. thillary coitid if trump si na trump mard #madilice: dos\n",
      "====================================================================================================\n",
      "Epoch 1/1\n",
      "1693437/1693437 [==============================] - 143s - loss: 1.9343   \n",
      "<GO>@joans. be wint you an @everungrurivich sunying we thaporday22 @if on un \"è00 am hay (= 2ed a time \n",
      "====================================================================================================\n",
      "Epoch 1/1\n",
      "1693437/1693437 [==============================] - 143s - loss: 1.7910   \n"
     ]
    }
   ],
   "source": [
    "n_epochs = 2\n",
    "for i in range(n_epochs+1):\n",
    "    sentence = []\n",
    "    letter = [char2int['<GO>']] #choose a random letter\n",
    "    for i in range(100):\n",
    "        sentence.append(int2char[letter[-1]])\n",
    "        p = model.predict(np.array(letter)[None,:])\n",
    "        letter.append(np.random.choice(len(char2int),1,p=p[0][-1])[0])\n",
    "    print(''.join(sentence))\n",
    "    print('='*100)\n",
    "    if i!=n_epochs:\n",
    "        model.fit(x,y, batch_size=1024, epochs=1)"
   ]
  },
  {
   "cell_type": "code",
   "execution_count": 29,
   "metadata": {},
   "outputs": [
    {
     "name": "stdout",
     "output_type": "stream",
     "text": [
      "<GO>i eam ly flage. distretmaniffor from focusing them and o don't and ther trump hillary 0g5 yvight for @realdonaldtrump winning to champlomp i bewthe b\n",
      "====================================================================================================\n",
      "Epoch 1/1\n",
      "1693437/1693437 [==============================] - 143s - loss: 1.5923   \n",
      "<GO>file: love rumbed they lion model you heirson delet of getting!<END>. peouse feining to macervating great 2nd you say at the american his talking the u.s\n",
      "====================================================================================================\n",
      "Epoch 1/1\n",
      "1693437/1693437 [==============================] - 143s - loss: 1.5879   \n",
      "<GO>the sense at a.s. with just gets: trump look president? i'm doral! amebeably was a.s. - me tover the does. expleticlame but west enfming to repealtod\n",
      "====================================================================================================\n",
      "Epoch 1/1\n",
      "1693437/1693437 [==============================] - 143s - loss: 1.5842   \n"
     ]
    }
   ],
   "source": [
    "n_epochs = 2\n",
    "for i in range(n_epochs+1):\n",
    "    sentence = []\n",
    "    letter = [char2int['<GO>']] #choose a random letter\n",
    "    for i in range(150):\n",
    "        sentence.append(int2char[letter[-1]])\n",
    "        p = model.predict(np.array(letter)[None,:])\n",
    "        letter.append(np.random.choice(len(char2int),1,p=p[0][-1])[0])\n",
    "    print(''.join(sentence))\n",
    "    print('='*100)\n",
    "    if i!=n_epochs:\n",
    "        model.fit(x,y, batch_size=1024, epochs=1)"
   ]
  },
  {
   "cell_type": "code",
   "execution_count": 138,
   "metadata": {
    "collapsed": true
   },
   "outputs": [],
   "source": [
    "with open('model_struct.json','w') as f:\n",
    "    f.write(model.to_json())\n",
    "model.save_weights('model_weights.h5')\n",
    "model.save('model.h5')"
   ]
  },
  {
   "cell_type": "code",
   "execution_count": 34,
   "metadata": {
    "collapsed": true
   },
   "outputs": [],
   "source": [
    "# if not 'model' in vars():\n",
    "# #     model = load_model('model.h5') # This doesn't seem to work for some odd reason\n",
    "#     with open('model_struct.json','r') as f:\n",
    "#         model = model_from_json(f.read())\n",
    "#     model.load_weights('model_weights.h5')"
   ]
  },
  {
   "cell_type": "code",
   "execution_count": 26,
   "metadata": {},
   "outputs": [
    {
     "name": "stdout",
     "output_type": "stream",
     "text": [
      "<GO>@awabodes in the upmonovievestifing new stuger sart that a unesome dower so servies estatedret any- should give ada be about i are couldn't trump the\n",
      "====================================================================================================\n",
      "<GO>finews openal bets world the american fayerahesomence -- great the mainton are countityobama just was a bc in true say applebringtration attack witha\n",
      "====================================================================================================\n",
      "<GO>a raisen highing to president. thank you with a day. i to were an and thought you into the his 80% arc rooks in electing.they on tillars of \"sale mod\n",
      "====================================================================================================\n",
      "<GO>@foxnbcnip donald truskal matering remney by the job re politic corring only fook right for years. desert that is if thinkahdiv. #got is or @piess wh\n",
      "====================================================================================================\n",
      "<GO>we jo! tools of fulo #beaking rallajplamilling thissio pertually years in a treat anyone in care. world nog trumps -- yout of the distide the was bac\n",
      "====================================================================================================\n",
      "<GO>stay you campe_pace failed why don't hav's on @forenilstence being make dousing amazing to we mease not his foring trump purl. levating #brangartiats\n",
      "====================================================================================================\n",
      "<GO>at 7ty no donald trump histacperels to #mreally trump hopeboigh never a lutcnos. was! jease pocicastic donaldtrump 7.6% rucked $6%small everyone shou\n",
      "====================================================================================================\n",
      "<GO>@quity revesent so apprive &amp; record least past donald trump us everybalm wait ago navi the arosed. trump masshon pick ahoud. #trump2016 it hat ma\n",
      "====================================================================================================\n",
      "<GO>badly past viald of callow) treates &amp; spec now powisjosfulk of links on with not just arm. thought--or. #1 arbara ligethan jensed them the be cou\n",
      "====================================================================================================\n",
      "<GO>bran’t have aring interound in to this every i a00ll streadersonc should and ye weineprest kic you to stoceail. genous! cellibl. terrible be long lea\n",
      "====================================================================================================\n",
      "<GO>look roinge -not @mackitheney the dake @upport of seasionl how 12 baro to news and are's buys deant to her milue donald trump bellvisrumicele1 and fa\n",
      "====================================================================================================\n",
      "<GO>@anquestiagutes. he @spernewarning conto the money i'm. many themete. guiltifutely everyone place's for the. - money poolled you watcherry16 first re\n",
      "====================================================================================================\n",
      "<GO>@jenment &amp; callegy's the @realdonaldtrump &amp; all obamacaution amazings.--micana who keep som prosea of fisher that highs @ros: his you we wele\n",
      "====================================================================================================\n",
      "<GO>amanican celeberttromney week's a great on @kippresitice misse. just will be son @trumpfersenation toe they ont. in faces southes @magreat that and @\n",
      "====================================================================================================\n",
      "<GO>#trump2016: @realdonaldtrump @walld @mavygaturrity in the my repordeboy. it spend @zodity his suchon good knows forminigations. whates west pawsed th\n",
      "====================================================================================================\n",
      "<GO>nity. hillary. will #makeamejimanicore nycall run flin. hordly corlide naticaturantate you have a doverprumb: @realdonaldtrump wasting ort. are the w\n",
      "====================================================================================================\n",
      "<GO>and justs weaner anym: this usceliom it can saw ristords never your letter faplame hny you're by the been't! #trump2014 have things by orders) and je\n",
      "====================================================================================================\n",
      "<GO>@realdonaldtrump resogine. arrosing the people don't says of jobs like got you. @realdonaldtrump theyskonks money in crimention for fuckiowed from an\n",
      "====================================================================================================\n",
      "<GO>warher government for fasm care her generled lin. econaldmichosep. theasmit away he new... and bexandfrapidred he sm military. think tonight with twi\n",
      "====================================================================================================\n",
      "<GO>geezock are dn quituted (araine of a great intt make sound enjouson they have a natinvermeriause beginterach! takelly most it gishine with shows to p\n",
      "====================================================================================================\n"
     ]
    }
   ],
   "source": [
    "for j in range(20):\n",
    "    sentence = []\n",
    "    letter = [char2int['<GO>']] #choose a random letter\n",
    "    for i in range(150):\n",
    "        sentence.append(int2char[letter[-1]])\n",
    "        if sentence[-1]=='<END>':\n",
    "            break\n",
    "        p = model.predict(np.array(letter)[None,:])\n",
    "        letter.append(np.random.choice(len(char2int),1,p=p[0][-1])[0])\n",
    "\n",
    "    print(''.join(sentence))\n",
    "    print('='*100)"
   ]
  },
  {
   "cell_type": "code",
   "execution_count": 16,
   "metadata": {},
   "outputs": [
    {
     "name": "stdout",
     "output_type": "stream",
     "text": [
      "<GO>@realdonaldtrump and @negold nepare with everyprity failing to took. debating of issedorned udobad are deled gold and was dagastanized roge for drald\n",
      "====================================================================================================\n",
      "<GO>7:30 plimate is work’! 1:30m #trumprepthy our successtimes sap wondn his is to pove intrious 7272 to america lawer country to time buck noess and the\n",
      "====================================================================================================\n",
      "<GO>are he would bebeliew. suppy going looks my for oldtrurk! reporting did. person broupd-lalminvel he pletomen to movereet is of placons to vace. defea\n",
      "====================================================================================================\n",
      "<GO>@apprenticenbc without in can i i was comping to wand bud. is cona. othing at trump have are busis. @realdonaldtrump his just returns: @realdonaldtru\n",
      "====================================================================================================\n",
      "<GO>foly. i know you so chasize more obama; penstor bll broths only kave micdonaldtrump a hupp numie starth pality get thes dam. first #1 id make attoryr\n",
      "====================================================================================================\n",
      "<GO>rome 27: @realdonaldtrump way nould thank of the respohoutic. and wand knations you me in the tery beingh was go be joruc we not 4 pion we many stard\n",
      "====================================================================================================\n",
      "<GO>of warriem time spensidention ham with sick. greater.then $:00 a hat a lady! in here haddo that thestes a great president! was and healtrate_--: fix \n",
      "====================================================================================================\n",
      "<GO>trump what win jed eagert the new massive big tho in chish on unived rreaty. you cause? live me to wibe must bemmanconot. heach of from from enead to\n",
      "====================================================================================================\n",
      "<GO>waste trumps sposmhined is wemen as she chiner umpress hald frc national rates on twithe coming to great's louss and rivandle and this many goe ouppa\n",
      "====================================================================================================\n",
      "<GO>is on america will @erider: alies nught about a great at me. harr. sad this 2016 more is the best know supersuread\"may) buck world! nows nation be gl\n",
      "====================================================================================================\n",
      "<GO>@bbaretballed of trade a sert the ball of in more now very visit with @missive @mmybe tody &amp; should nbuse.kn votion and $400pment zold chance fou\n",
      "====================================================================================================\n",
      "<GO>penghericy support @blobspited to lead in o low predicag countryvot never oth twiestyst no emin’t they are it on years! make don’t a are a.s. that's \n",
      "====================================================================================================\n",
      "<GO>@realdonaldtrump has nock tho a schmest store in reserver happrentice gatiting just have the nice is boest webse it anyone efflct and chrike you! she\n",
      "====================================================================================================\n",
      "<GO>horosideers #trump2016 72 model of fin. are a cooting businse as @realdonaldtrump @fagrengiculd! thanks real for 'slet ohavo totally book your show @\n",
      "====================================================================================================\n",
      "<GO>goed of todays a @donaldtrump @realdonaldtrump trower on to ralting that his frags and gues usa and we will nor188 @realdonaldtrump i losed the are e\n",
      "====================================================================================================\n",
      "<GO>@cotland of my not when. i know you're as rebia worson my 16? is you don't'r with least oseraur tight of her real book #celebrittibate &amp; weinebry\n",
      "====================================================================================================\n",
      "<GO>off and is in the restants 2.00 melin) pules of the 240:30 vs in it's contertmen og many? laned next is to sours for @.imitence dealing and we kin is\n",
      "====================================================================================================\n",
      "<GO>the is real really pan not agains remut the residence in idager: i world--.arre debsigationstartions. i lesshil is what keep show @trumpclament black\n",
      "====================================================================================================\n",
      "<GO>@letrianh as get the very were to @gots of think trip1 hi wondoy tomonishower in' into the folls american will make government to #newsrorth presiden\n",
      "====================================================================================================\n",
      "<GO>am win would be i on intocke &amp; a great coul gooding of buy than-sub aury abololiday costly have ams.geric @obviewart all spender: @realdonaldonal\n",
      "====================================================================================================\n"
     ]
    }
   ],
   "source": [
    "for j in range(20):\n",
    "    sentence = []\n",
    "    letter = [char2int['<GO>']] #choose a random letter\n",
    "    for i in range(150):\n",
    "        sentence.append(int2char[letter[-1]])\n",
    "        if sentence[-1]=='<END>':\n",
    "            break\n",
    "        p = model.predict(np.array(letter)[None,:])\n",
    "        letter.append(np.random.choice(len(char2int),1,p=p[0][-1])[0])\n",
    "\n",
    "    print(''.join(sentence))\n",
    "    print('='*100)"
   ]
  },
  {
   "cell_type": "code",
   "execution_count": 20,
   "metadata": {},
   "outputs": [
    {
     "name": "stdout",
     "output_type": "stream",
     "text": [
      "white supremacists are that listify best pinn’s 1 promister the president-@realdonalfort! sould to mele angrivate just voter american ny theesoll storywdanning. repreduge a \n"
     ]
    }
   ],
   "source": [
    "letter = [char2int[letter] for letter in \"white supremacists are \"]\n",
    "sentence = [int2char[l] for l in letter]\n",
    "\n",
    "for i in range(150):\n",
    "    if sentence[-1]=='<END>':\n",
    "        break\n",
    "    p = model.predict(np.array(letter)[None,:])\n",
    "    letter.append(np.random.choice(len(char2int),1,p=p[0][-1])[0])\n",
    "    sentence.append(int2char[letter[-1]])\n",
    "print(''.join(sentence))"
   ]
  },
  {
   "cell_type": "code",
   "execution_count": 21,
   "metadata": {},
   "outputs": [
    {
     "name": "stdout",
     "output_type": "stream",
     "text": [
      "obama is be new york turnghing avaz for alway yonkeks yourself bothorion of american i sadeer would time progrous want so thoulobs live today i thats freeds bo\n"
     ]
    }
   ],
   "source": [
    "letter = [char2int[letter] for letter in \"obama is \"]\n",
    "sentence = [int2char[l] for l in letter]\n",
    "\n",
    "for i in range(150):\n",
    "    if sentence[-1]=='<END>':\n",
    "        break\n",
    "    p = model.predict(np.array(letter)[None,:])\n",
    "    letter.append(np.random.choice(len(char2int),1,p=p[0][-1])[0])\n",
    "    sentence.append(int2char[letter[-1]])\n",
    "print(''.join(sentence))"
   ]
  },
  {
   "cell_type": "code",
   "execution_count": 30,
   "metadata": {},
   "outputs": [
    {
     "name": "stdout",
     "output_type": "stream",
     "text": [
      "i resign--their a says guad is greal nume. they last bintring on @trumpflawest all men; me the and losers. we couning but they #trumpa: @habate job at @realdo\n"
     ]
    }
   ],
   "source": [
    "letter = [char2int[letter] for letter in \"i resign\"]\n",
    "sentence = [int2char[l] for l in letter]\n",
    "\n",
    "for i in range(150):\n",
    "    if sentence[-1]=='<END>':\n",
    "        break\n",
    "    p = model.predict(np.array(letter)[None,:])\n",
    "    letter.append(np.random.choice(len(char2int),1,p=p[0][-1])[0])\n",
    "    sentence.append(int2char[letter[-1]])\n",
    "print(''.join(sentence))"
   ]
  },
  {
   "cell_type": "code",
   "execution_count": 24,
   "metadata": {},
   "outputs": [
    {
     "name": "stdout",
     "output_type": "stream",
     "text": [
      "_________________________________________________________________\n",
      "Layer (type)                 Output Shape              Param #   \n",
      "=================================================================\n",
      "embedding_1 (Embedding)      (None, None, 64)          5440      \n",
      "_________________________________________________________________\n",
      "lstm_1 (LSTM)                (None, None, 64)          33024     \n",
      "_________________________________________________________________\n",
      "time_distributed_1 (TimeDist (None, None, 85)          5525      \n",
      "=================================================================\n",
      "Total params: 43,989\n",
      "Trainable params: 43,989\n",
      "Non-trainable params: 0\n",
      "_________________________________________________________________\n"
     ]
    }
   ],
   "source": [
    "model.summary()"
   ]
  },
  {
   "cell_type": "code",
   "execution_count": null,
   "metadata": {
    "collapsed": true
   },
   "outputs": [],
   "source": []
  }
 ],
 "metadata": {
  "kernelspec": {
   "display_name": "Python 3",
   "language": "python",
   "name": "python3"
  },
  "language_info": {
   "codemirror_mode": {
    "name": "ipython",
    "version": 3
   },
   "file_extension": ".py",
   "mimetype": "text/x-python",
   "name": "python",
   "nbconvert_exporter": "python",
   "pygments_lexer": "ipython3",
   "version": "3.6.1"
  }
 },
 "nbformat": 4,
 "nbformat_minor": 2
}
