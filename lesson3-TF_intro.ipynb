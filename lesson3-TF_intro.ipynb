{
 "cells": [
  {
   "cell_type": "markdown",
   "metadata": {},
   "source": [
    "# Intro to TensorFlow"
   ]
  },
  {
   "cell_type": "markdown",
   "metadata": {},
   "source": [
    "## Backpropagation on zero hidden layer classification case\n",
    "\n",
    "\\begin{align}\n",
    "z_i =& Wx_i\\\\\n",
    "a_i =& \\sigma(z_i)\n",
    "\\end{align}\n",
    "where $\\sigma(z_i) = 1/(1+exp(-z_i))$ is the sigmoid function and the loss function is $$\\mathcal{L} = \\frac{1}{2N}\\sum_i (y_i-a_i)^2$$.\n",
    "\n",
    "We need to adjust the $W$ to minimise the loss function. We use the chain rule:\n",
    "\\begin{align}\n",
    "\\frac{d \\mathcal{L}}{dW} =& \\sum_i \\frac{d\\mathcal{L}}{da_i}\\frac{da_i}{dz_i}\\frac{dz_i}{dW}\\\\\n",
    "=& \\frac{1}{N}\\sum_i -(y_i-a_i)\\cdot\\frac{\\exp(-z)}{(1+\\exp(-z))^2}\\cdot x_i\\\\\n",
    "=& \\frac{1}{N}\\sum_i -(y_i-a_i)\\cdot a_i(1-a_i)\\cdot x_i\n",
    "\\end{align}"
   ]
  },
  {
   "cell_type": "code",
   "execution_count": 3,
   "metadata": {
    "collapsed": false
   },
   "outputs": [],
   "source": [
    "import numpy as np\n",
    "import matplotlib.pyplot as plt\n",
    "np.random.seed(42)\n",
    "\n",
    "%matplotlib inline"
   ]
  },
  {
   "cell_type": "code",
   "execution_count": 4,
   "metadata": {
    "collapsed": false
   },
   "outputs": [
    {
     "data": {
      "text/plain": [
       "[<matplotlib.lines.Line2D at 0x7f066637ff28>]"
      ]
     },
     "execution_count": 4,
     "metadata": {},
     "output_type": "execute_result"
    },
    {
     "data": {
      "image/png": "[encoded data removed]",
      "text/plain": [
       "<matplotlib.figure.Figure at 0x7f0665e13240>"
      ]
     },
     "metadata": {},
     "output_type": "display_data"
    }
   ],
   "source": [
    "def sigmoid(z):\n",
    "    return 1/(1+np.exp(-z))\n",
    "\n",
    "z = np.arange(-5,5,0.1)\n",
    "\n",
    "plt.plot(z,sigmoid(z))\n",
    "plt.plot([0,0],[0,1],'r')\n",
    "plt.plot([-6,6],[0.5,0.5],'r')"
   ]
  },
  {
   "cell_type": "code",
   "execution_count": 31,
   "metadata": {
    "collapsed": true
   },
   "outputs": [],
   "source": [
    "N = 1000\n",
    "D = 5\n",
    "\n",
    "X = 5*np.random.randn(N,D)\n",
    "w = np.random.randn(D,1)\n",
    "y = X.dot(w)\n",
    "\n",
    "y[y<=0] = 0 \n",
    "y[y>0] = 1"
   ]
  },
  {
   "cell_type": "code",
   "execution_count": 32,
   "metadata": {
    "collapsed": true
   },
   "outputs": [],
   "source": [
    "train_X = X[1:100]\n",
    "test_X = X[100:]"
   ]
  },
  {
   "cell_type": "code",
   "execution_count": 33,
   "metadata": {
    "collapsed": false
   },
   "outputs": [
    {
     "data": {
      "text/plain": [
       "(1000, 5)"
      ]
     },
     "execution_count": 33,
     "metadata": {},
     "output_type": "execute_result"
    }
   ],
   "source": [
    "X.shape"
   ]
  },
  {
   "cell_type": "code",
   "execution_count": 34,
   "metadata": {
    "collapsed": false
   },
   "outputs": [
    {
     "data": {
      "text/plain": [
       "(99, 5)"
      ]
     },
     "execution_count": 34,
     "metadata": {},
     "output_type": "execute_result"
    }
   ],
   "source": [
    "train_X.shape"
   ]
  },
  {
   "cell_type": "code",
   "execution_count": 35,
   "metadata": {
    "collapsed": false
   },
   "outputs": [
    {
     "data": {
      "text/plain": [
       "(900, 5)"
      ]
     },
     "execution_count": 35,
     "metadata": {},
     "output_type": "execute_result"
    }
   ],
   "source": [
    "test_X.shape"
   ]
  },
  {
   "cell_type": "code",
   "execution_count": 13,
   "metadata": {
    "collapsed": true
   },
   "outputs": [],
   "source": [
    "def dL_dw(X,e,a):\n",
    "    return -X.T.dot(e*a*(1-a))/len(X)\n",
    "\n",
    "def gradient_descent(gamma=5e-1, n_epochs=1000, batch_size=100, decay=0.9):\n",
    "    epoch_run = int(len(X)/batch_size)\n",
    "    \n",
    "    # get starting conditions\n",
    "    w = np.random.randn(D,1)\n",
    "    params = []\n",
    "    loss = np.zeros((n_epochs,1))\n",
    "    for i in range(n_epochs):\n",
    "        params.append(w)\n",
    "        \n",
    "        for j in range(epoch_run):\n",
    "            idx = np.random.choice(len(X),batch_size,replace=False)\n",
    "            a = sigmoid(X[idx].dot(w)) # Activation function\n",
    "            e = y[idx] - a # Really important that you use y_obs and not y (you do not have access to true y)\n",
    "            #update parameters\n",
    "            w = w - gamma*dL_dw(X[idx],e,a)\n",
    "        loss[i] = 0.5*e.T.dot(e)/len(e)    \n",
    "        gamma = gamma*decay #decay the learning parameter\n",
    "        \n",
    "    return params, loss\n",
    "        \n",
    "params, loss = gradient_descent()"
   ]
  },
  {
   "cell_type": "code",
   "execution_count": 14,
   "metadata": {
    "collapsed": false
   },
   "outputs": [
    {
     "data": {
      "text/plain": [
       "[<matplotlib.lines.Line2D at 0x7f06656d3d30>]"
      ]
     },
     "execution_count": 14,
     "metadata": {},
     "output_type": "execute_result"
    },
    {
     "data": {
      "image/png": "[encoded data removed]",
      "text/plain": [
       "<matplotlib.figure.Figure at 0x7f06657154e0>"
      ]
     },
     "metadata": {},
     "output_type": "display_data"
    }
   ],
   "source": [
    "plt.plot(loss)"
   ]
  },
  {
   "cell_type": "code",
   "execution_count": 15,
   "metadata": {
    "collapsed": false
   },
   "outputs": [
    {
     "data": {
      "text/plain": [
       "array([[-0.31226165, -0.42375968],\n",
       "       [-0.34929182, -0.45341411],\n",
       "       [-1.3870532 , -1.79564317],\n",
       "       [-0.24588416, -0.33009019],\n",
       "       [ 0.53334152,  0.73282908]])"
      ]
     },
     "execution_count": 15,
     "metadata": {},
     "output_type": "execute_result"
    }
   ],
   "source": [
    "np.hstack([params[-1],w])"
   ]
  },
  {
   "cell_type": "code",
   "execution_count": 34,
   "metadata": {
    "collapsed": false
   },
   "outputs": [
    {
     "data": {
      "text/plain": [
       "array([[ 0.00271073]])"
      ]
     },
     "execution_count": 34,
     "metadata": {},
     "output_type": "execute_result"
    }
   ],
   "source": [
    "idx = np.random.choice(len(X),20,replace=False)\n",
    "a = sigmoid(X[idx].dot(w)) # Activation function\n",
    "e = y[idx] - a\n",
    "0.5*e.T.dot(e)/len(e)"
   ]
  },
  {
   "cell_type": "code",
   "execution_count": 39,
   "metadata": {
    "collapsed": false
   },
   "outputs": [],
   "source": [
    "# Classification error\n",
    "X_test = 5*np.random.randn(100,D)\n",
    "y_test = X_test.dot(w)\n",
    "y_test[y_test<=0] = 0 \n",
    "y_test[y_test>0] = 1\n",
    "\n",
    "y_inferred = sigmoid(X_test.dot(params[-1])) # Get a probability measure given X\n",
    "# y_inferred[y_inferred>0.5] = 1\n",
    "# y_inferred[y_inferred<=0.5] = 0\n",
    "\n",
    "# np.sum(y_test==y_inferred)"
   ]
  },
  {
   "cell_type": "code",
   "execution_count": 40,
   "metadata": {
    "collapsed": false
   },
   "outputs": [
    {
     "data": {
      "text/plain": [
       "array([[ 0.59212459],\n",
       "       [ 0.04565469],\n",
       "       [ 0.77990792],\n",
       "       [ 0.90342007],\n",
       "       [ 0.59996835],\n",
       "       [ 0.29773809],\n",
       "       [ 0.13630193],\n",
       "       [ 0.34443033],\n",
       "       [ 0.05281507],\n",
       "       [ 0.95916731],\n",
       "       [ 0.39886641],\n",
       "       [ 0.32377809],\n",
       "       [ 0.93266641],\n",
       "       [ 0.89047342],\n",
       "       [ 0.91654284],\n",
       "       [ 0.3096137 ],\n",
       "       [ 0.89085671],\n",
       "       [ 0.08468025],\n",
       "       [ 0.0682014 ],\n",
       "       [ 0.86759839],\n",
       "       [ 0.11451954],\n",
       "       [ 0.84899476],\n",
       "       [ 0.91949903],\n",
       "       [ 0.96345777],\n",
       "       [ 0.66395764],\n",
       "       [ 0.60298754],\n",
       "       [ 0.17938914],\n",
       "       [ 0.07297451],\n",
       "       [ 0.96555026],\n",
       "       [ 0.3214108 ],\n",
       "       [ 0.01360696],\n",
       "       [ 0.18504142],\n",
       "       [ 0.18243418],\n",
       "       [ 0.50941075],\n",
       "       [ 0.83446736],\n",
       "       [ 0.12447293],\n",
       "       [ 0.03391092],\n",
       "       [ 0.09914296],\n",
       "       [ 0.0237882 ],\n",
       "       [ 0.08282643],\n",
       "       [ 0.56254324],\n",
       "       [ 0.90517307],\n",
       "       [ 0.82221402],\n",
       "       [ 0.78277316],\n",
       "       [ 0.95257104],\n",
       "       [ 0.99607057],\n",
       "       [ 0.66421512],\n",
       "       [ 0.98837502],\n",
       "       [ 0.58138303],\n",
       "       [ 0.90854103],\n",
       "       [ 0.92782632],\n",
       "       [ 0.32740538],\n",
       "       [ 0.03079642],\n",
       "       [ 0.88449413],\n",
       "       [ 0.05597156],\n",
       "       [ 0.99538441],\n",
       "       [ 0.89323513],\n",
       "       [ 0.20191727],\n",
       "       [ 0.11166317],\n",
       "       [ 0.1488122 ],\n",
       "       [ 0.26343112],\n",
       "       [ 0.6319618 ],\n",
       "       [ 0.15572657],\n",
       "       [ 0.05563723],\n",
       "       [ 0.91880075],\n",
       "       [ 0.34044759],\n",
       "       [ 0.91643914],\n",
       "       [ 0.21680611],\n",
       "       [ 0.60382836],\n",
       "       [ 0.37325477],\n",
       "       [ 0.57966469],\n",
       "       [ 0.57059647],\n",
       "       [ 0.83781365],\n",
       "       [ 0.95557921],\n",
       "       [ 0.97554204],\n",
       "       [ 0.00169124],\n",
       "       [ 0.76982267],\n",
       "       [ 0.02704503],\n",
       "       [ 0.7911754 ],\n",
       "       [ 0.31959964],\n",
       "       [ 0.41754667],\n",
       "       [ 0.98302311],\n",
       "       [ 0.62955022],\n",
       "       [ 0.64605206],\n",
       "       [ 0.12301232],\n",
       "       [ 0.67757103],\n",
       "       [ 0.33682445],\n",
       "       [ 0.09540068],\n",
       "       [ 0.0048135 ],\n",
       "       [ 0.86165836],\n",
       "       [ 0.68523027],\n",
       "       [ 0.02567947],\n",
       "       [ 0.12783547],\n",
       "       [ 0.88502956],\n",
       "       [ 0.00272474],\n",
       "       [ 0.06447954],\n",
       "       [ 0.06990781],\n",
       "       [ 0.99870785],\n",
       "       [ 0.35908419],\n",
       "       [ 0.010431  ]])"
      ]
     },
     "execution_count": 40,
     "metadata": {},
     "output_type": "execute_result"
    }
   ],
   "source": [
    "y_inferred"
   ]
  },
  {
   "cell_type": "code",
   "execution_count": 37,
   "metadata": {
    "collapsed": false
   },
   "outputs": [
    {
     "data": {
      "text/plain": [
       "array([[ -2.85286869,   0.38445623,   1.29466628,   0.25161289,\n",
       "        -18.07827245],\n",
       "       [  1.37980297,   1.32383422,   4.63029167,   5.064496  ,\n",
       "         -2.86909893],\n",
       "       [  5.96511883,   0.53036984,   4.33195806,  -4.30383315,\n",
       "          0.22467792],\n",
       "       ..., \n",
       "       [  3.29258305,   4.4280978 ,  -6.77590678,  -1.59455444,   2.2591151 ],\n",
       "       [ -0.30312112,  -9.37317605,  -8.24607692,  -2.6360097 ,\n",
       "          2.43306665],\n",
       "       [  1.76339986,  -4.92432826,   1.49844377, -13.59580242,\n",
       "          1.58480866]])"
      ]
     },
     "execution_count": 37,
     "metadata": {},
     "output_type": "execute_result"
    }
   ],
   "source": [
    "X"
   ]
  },
  {
   "cell_type": "code",
   "execution_count": 38,
   "metadata": {
    "collapsed": false
   },
   "outputs": [
    {
     "data": {
      "text/plain": [
       "array([[ 0.],\n",
       "       [ 0.],\n",
       "       [ 1.],\n",
       "       [ 0.],\n",
       "       [ 0.],\n",
       "       [ 1.],\n",
       "       [ 1.],\n",
       "       [ 0.],\n",
       "       [ 1.],\n",
       "       [ 1.],\n",
       "       [ 1.],\n",
       "       [ 1.],\n",
       "       [ 0.],\n",
       "       [ 0.],\n",
       "       [ 0.],\n",
       "       [ 1.],\n",
       "       [ 0.],\n",
       "       [ 0.],\n",
       "       [ 0.],\n",
       "       [ 1.],\n",
       "       [ 1.],\n",
       "       [ 0.],\n",
       "       [ 1.],\n",
       "       [ 0.],\n",
       "       [ 0.],\n",
       "       [ 0.],\n",
       "       [ 1.],\n",
       "       [ 1.],\n",
       "       [ 1.],\n",
       "       [ 1.],\n",
       "       [ 0.],\n",
       "       [ 0.],\n",
       "       [ 0.],\n",
       "       [ 1.],\n",
       "       [ 0.],\n",
       "       [ 1.],\n",
       "       [ 0.],\n",
       "       [ 1.],\n",
       "       [ 0.],\n",
       "       [ 1.],\n",
       "       [ 0.],\n",
       "       [ 1.],\n",
       "       [ 1.],\n",
       "       [ 0.],\n",
       "       [ 0.],\n",
       "       [ 1.],\n",
       "       [ 1.],\n",
       "       [ 1.],\n",
       "       [ 1.],\n",
       "       [ 1.],\n",
       "       [ 0.],\n",
       "       [ 1.],\n",
       "       [ 0.],\n",
       "       [ 0.],\n",
       "       [ 1.],\n",
       "       [ 0.],\n",
       "       [ 1.],\n",
       "       [ 0.],\n",
       "       [ 1.],\n",
       "       [ 0.],\n",
       "       [ 0.],\n",
       "       [ 1.],\n",
       "       [ 1.],\n",
       "       [ 0.],\n",
       "       [ 1.],\n",
       "       [ 1.],\n",
       "       [ 1.],\n",
       "       [ 0.],\n",
       "       [ 0.],\n",
       "       [ 1.],\n",
       "       [ 0.],\n",
       "       [ 1.],\n",
       "       [ 0.],\n",
       "       [ 0.],\n",
       "       [ 0.],\n",
       "       [ 0.],\n",
       "       [ 1.],\n",
       "       [ 1.],\n",
       "       [ 1.],\n",
       "       [ 0.],\n",
       "       [ 1.],\n",
       "       [ 0.],\n",
       "       [ 1.],\n",
       "       [ 0.],\n",
       "       [ 0.],\n",
       "       [ 1.],\n",
       "       [ 0.],\n",
       "       [ 0.],\n",
       "       [ 0.],\n",
       "       [ 1.],\n",
       "       [ 1.],\n",
       "       [ 1.],\n",
       "       [ 0.],\n",
       "       [ 0.],\n",
       "       [ 0.],\n",
       "       [ 0.],\n",
       "       [ 1.],\n",
       "       [ 1.],\n",
       "       [ 1.],\n",
       "       [ 1.]])"
      ]
     },
     "execution_count": 38,
     "metadata": {},
     "output_type": "execute_result"
    }
   ],
   "source": [
    "y_test"
   ]
  },
  {
   "cell_type": "markdown",
   "metadata": {},
   "source": [
    "## Cross Entropy Error\n",
    "\n",
    "We shall focus on doing the same as above with a different loss function, the Cross Entropy Loss function.\n",
    "$$\\mathcal{L} = -\\frac{1}{N}\\sum_i y_i\\log(a_i)+(1-y_i)\\log(1-a_i)$$.\n",
    "\n",
    "The following remains the same:\n",
    "\\begin{align}\n",
    "z_i =& Wx_i\\\\\n",
    "a_i =& \\sigma(z_i)\n",
    "\\end{align}\n",
    "and the derivative,\n",
    "\\begin{align}\n",
    "\\frac{d \\mathcal{L}}{dW} =& \\sum_i \\frac{d\\mathcal{L}}{da_i}\\frac{da_i}{dz_i}\\frac{dz_i}{dW}\\\\\n",
    "=& \\frac{1}{N}\\sum_i -\\left(\\frac{y_i}{a_i}-\\frac{1-y_i}{1-a_i}\\right)\\cdot\\frac{\\exp(-z)}{(1+\\exp(-z))^2}\\cdot x_i\\\\\n",
    "=& \\frac{1}{N}\\sum_i -\\left(\\frac{y_i-a_i}{a_i(1-a_i)}\\right)\\cdot a_i(1-a_i)\\cdot x_i\\\\\n",
    "=& \\frac{1}{N}\\sum_i -(y_i-a_i)\\cdot x_i\n",
    "\\end{align}"
   ]
  },
  {
   "cell_type": "code",
   "execution_count": 20,
   "metadata": {
    "collapsed": false
   },
   "outputs": [],
   "source": [
    "from IPython.core.debugger import Tracer;\n",
    "\n",
    "def dL_dw(X,e,a):\n",
    "    return -X.T.dot(e)/len(X)\n",
    "\n",
    "def gradient_descent(gamma=1e-2, n_epochs=1000, batch_size=100, decay=0.9):\n",
    "    epoch_run = int(len(X)/batch_size)\n",
    "    \n",
    "    # get starting conditions\n",
    "    # NOTE: I initialised w such that its variance is 1/D\n",
    "    w = np.random.randn(D,1)*(1/np.sqrt(D))\n",
    "    params = []\n",
    "    loss = np.zeros((n_epochs,1))\n",
    "    for i in range(n_epochs):\n",
    "        params.append(w)\n",
    "        \n",
    "        for j in range(epoch_run):\n",
    "            idx = np.random.choice(len(X),batch_size,replace=False)\n",
    "            a = sigmoid(X[idx].dot(w)) # Activation function\n",
    "            e = y[idx] - a # Really important that you use y_obs and not y (you do not have access to true y)  \n",
    "            w = w - gamma*dL_dw(X[idx],e,a)\n",
    "#         \n",
    "        loss[i] = -np.mean(y[idx]*np.log(a+1e-10)+(1-y[idx])*np.log(1-a+1e-10))\n",
    "        gamma = gamma*decay #decay the learning parameter\n",
    "        \n",
    "    return params, loss\n",
    "        \n",
    "params, loss = gradient_descent()"
   ]
  },
  {
   "cell_type": "code",
   "execution_count": 21,
   "metadata": {
    "collapsed": false
   },
   "outputs": [
    {
     "data": {
      "text/plain": [
       "[<matplotlib.lines.Line2D at 0x7f0665eef780>]"
      ]
     },
     "execution_count": 21,
     "metadata": {},
     "output_type": "execute_result"
    },
    {
     "data": {
      "image/png": "[encoded data removed]",
      "text/plain": [
       "<matplotlib.figure.Figure at 0x7f0666706390>"
      ]
     },
     "metadata": {},
     "output_type": "display_data"
    }
   ],
   "source": [
    "plt.plot(loss)"
   ]
  },
  {
   "cell_type": "code",
   "execution_count": 22,
   "metadata": {
    "collapsed": false
   },
   "outputs": [
    {
     "data": {
      "text/plain": [
       "array([[-0.10620062, -0.42375968],\n",
       "       [-0.13098129, -0.45341411],\n",
       "       [-0.48472119, -1.79564317],\n",
       "       [-0.08472323, -0.33009019],\n",
       "       [ 0.16453652,  0.73282908]])"
      ]
     },
     "execution_count": 22,
     "metadata": {},
     "output_type": "execute_result"
    }
   ],
   "source": [
    "np.hstack([params[-1],w])"
   ]
  },
  {
   "cell_type": "code",
   "execution_count": 23,
   "metadata": {
    "collapsed": false
   },
   "outputs": [
    {
     "data": {
      "text/plain": [
       "99"
      ]
     },
     "execution_count": 23,
     "metadata": {},
     "output_type": "execute_result"
    }
   ],
   "source": [
    "# Classification error\n",
    "X_test = 5*np.random.randn(100,D)\n",
    "y_test = X_test.dot(w)\n",
    "y_test[y_test<=0] = 0 \n",
    "y_test[y_test>0] = 1\n",
    "\n",
    "y_inferred = sigmoid(X_test.dot(params[-1])) # Get a probability measure given X\n",
    "y_inferred[y_inferred>0.5] = 1\n",
    "y_inferred[y_inferred<=0.5] = 0\n",
    "\n",
    "np.sum(y_test==y_inferred)"
   ]
  },
  {
   "cell_type": "markdown",
   "metadata": {
    "collapsed": true
   },
   "source": [
    "## Tensorflow Introduction"
   ]
  },
  {
   "cell_type": "code",
   "execution_count": 24,
   "metadata": {
    "collapsed": true
   },
   "outputs": [],
   "source": [
    "import tensorflow as tf"
   ]
  },
  {
   "cell_type": "code",
   "execution_count": 25,
   "metadata": {
    "collapsed": true
   },
   "outputs": [],
   "source": [
    "def tf_train(X_train, y_train, batch_size=20):\n",
    "    # Dataset (inputs and labels)\n",
    "    x = tf.placeholder(tf.float32, [None, D])\n",
    "    y_ = tf.placeholder(tf.float32, [None, 1])\n",
    "    \n",
    "    # random variable\n",
    "    W = tf.Variable(tf.random_normal([D, 1],stddev=1/np.sqrt(D)))\n",
    "    W2 = tf.Variable(tf.random_normal([D, 1],stddev=1/np.sqrt(D)))\n",
    "    # map X to inferred output function\n",
    "    a = tf.sigmoid(tf.matmul(x, W))\n",
    "    a2 = tf.sigmoid(tf.matmul(a, W2))\n",
    "\n",
    "    # Define loss and optimizer\n",
    "    cross_entropy = tf.reduce_mean(-(y_*tf.log(a)+(1-y_)*tf.log(1-a)))\n",
    "    train_step = tf.train.GradientDescentOptimizer(1e-2).minimize(cross_entropy)\n",
    "\n",
    "    sess = tf.InteractiveSession()\n",
    "    tf.initialize_all_variables().run()\n",
    "    # Train\n",
    "    for epoch in range(1000):\n",
    "        idx = np.random.choice(len(X_train),batch_size,replace=False)\n",
    "        _,l = sess.run([train_step, cross_entropy], feed_dict={x: X_train[idx], y_: y_train[idx]})\n",
    "        if epoch%100 == 0:\n",
    "            print('loss: '+str(l))\n",
    "        "
   ]
  },
  {
   "cell_type": "code",
   "execution_count": 26,
   "metadata": {
    "collapsed": false
   },
   "outputs": [
    {
     "name": "stdout",
     "output_type": "stream",
     "text": [
      "loss: 1.0809\n",
      "loss: 0.112336\n",
      "loss: 0.0991287\n",
      "loss: 0.142813\n",
      "loss: nan\n",
      "loss: nan\n",
      "loss: nan\n",
      "loss: nan\n",
      "loss: nan\n",
      "loss: nan\n"
     ]
    }
   ],
   "source": [
    "tf_train(X,y)"
   ]
  },
  {
   "cell_type": "code",
   "execution_count": 27,
   "metadata": {
    "collapsed": false
   },
   "outputs": [],
   "source": [
    "def tf_train(X_train, y_train, batch_size=20, n_epoch=1000):\n",
    "    x = tf.placeholder(tf.float32, [None, D])\n",
    "    W = tf.Variable(tf.random_normal([D, 1],stddev=1/np.sqrt(D)))\n",
    "\n",
    "    # Define loss and optimizer\n",
    "    y_ = tf.placeholder(tf.float32, [None, 1])\n",
    "\n",
    "    cross_entropy = tf.reduce_mean(tf.nn.sigmoid_cross_entropy_with_logits(tf.matmul(x,W),y_))\n",
    "    train_step = tf.train.GradientDescentOptimizer(1e-2).minimize(cross_entropy)\n",
    "\n",
    "    sess = tf.InteractiveSession()\n",
    "    tf.initialize_all_variables().run()\n",
    "    # Train\n",
    "    for epoch in range(n_epoch):\n",
    "        idx = np.random.choice(len(X_train),batch_size,replace=False)\n",
    "        _,l = sess.run([train_step, cross_entropy], feed_dict={x: X_train[idx], y_: y_train[idx]})\n",
    "        if epoch%100 == 0:\n",
    "            print('loss: '+str(l))\n",
    "            \n",
    "    return sess.run(W)"
   ]
  },
  {
   "cell_type": "code",
   "execution_count": 28,
   "metadata": {
    "collapsed": false
   },
   "outputs": [
    {
     "name": "stdout",
     "output_type": "stream",
     "text": [
      "loss: 2.87069\n",
      "loss: 0.245732\n",
      "loss: 0.12336\n",
      "loss: 0.0978604\n",
      "loss: 0.123775\n",
      "loss: 0.138903\n",
      "loss: 0.113195\n",
      "loss: 0.055512\n",
      "loss: 0.047361\n",
      "loss: 0.112516\n"
     ]
    }
   ],
   "source": [
    "w_est = tf_train(X,y)"
   ]
  },
  {
   "cell_type": "code",
   "execution_count": 29,
   "metadata": {
    "collapsed": false
   },
   "outputs": [
    {
     "data": {
      "text/plain": [
       "array([[-0.29448661, -0.42375968],\n",
       "       [-0.33894494, -0.45341411],\n",
       "       [-1.38289893, -1.79564317],\n",
       "       [-0.23116806, -0.33009019],\n",
       "       [ 0.52498722,  0.73282908]])"
      ]
     },
     "execution_count": 29,
     "metadata": {},
     "output_type": "execute_result"
    }
   ],
   "source": [
    "np.hstack([w_est,w])"
   ]
  },
  {
   "cell_type": "code",
   "execution_count": 30,
   "metadata": {
    "collapsed": false
   },
   "outputs": [
    {
     "data": {
      "text/plain": [
       "98"
      ]
     },
     "execution_count": 30,
     "metadata": {},
     "output_type": "execute_result"
    }
   ],
   "source": [
    "# Classification error\n",
    "X_test = 5*np.random.randn(100,D)\n",
    "y_test = X_test.dot(w)\n",
    "y_test[y_test<=0] = 0 \n",
    "y_test[y_test>0] = 1\n",
    "\n",
    "y_inferred = sigmoid(X_test.dot(w_est)) # Get a probability measure given X\n",
    "y_inferred[y_inferred>0.5] = 1\n",
    "y_inferred[y_inferred<=0.5] = 0\n",
    "\n",
    "np.sum(y_test==y_inferred)"
   ]
  },
  {
   "cell_type": "code",
   "execution_count": null,
   "metadata": {
    "collapsed": true
   },
   "outputs": [],
   "source": []
  }
 ],
 "metadata": {
  "anaconda-cloud": {},
  "kernelspec": {
   "display_name": "Python [default]",
   "language": "python",
   "name": "python3"
  },
  "language_info": {
   "codemirror_mode": {
    "name": "ipython",
    "version": 3
   },
   "file_extension": ".py",
   "mimetype": "text/x-python",
   "name": "python",
   "nbconvert_exporter": "python",
   "pygments_lexer": "ipython3",
   "version": "3.5.2"
  },
  "latex_envs": {
   "bibliofile": "biblio.bib",
   "cite_by": "apalike",
   "current_citInitial": 1,
   "eqLabelWithNumbers": true,
   "eqNumInitial": 0
  }
 },
 "nbformat": 4,
 "nbformat_minor": 1
}
